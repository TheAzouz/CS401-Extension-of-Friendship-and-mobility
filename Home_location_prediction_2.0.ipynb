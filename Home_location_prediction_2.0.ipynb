{
 "cells": [
  {
   "cell_type": "markdown",
   "metadata": {},
   "source": [
    "# Home location Prediction\n",
    "\n",
    "In this notebook, we will train several models over the Foursquare training dataset. We will also predict home locations of users in both Gowalla and Brightkite datasets using the best model \n",
    "\n",
    "# 1. Loading libraries"
   ]
  },
  {
   "cell_type": "code",
   "execution_count": 9,
   "metadata": {
    "id": "VCTx22OriOVi"
   },
   "outputs": [],
   "source": [
    "import csv\n",
    "import pandas as pd\n",
    "import numpy as np\n",
    "import seaborn as sns\n",
    "import matplotlib.pyplot as plt\n",
    "\n",
    "from imblearn.over_sampling import SMOTE\n",
    "\n",
    "from sklearn.svm import SVC\n",
    "from sklearn.model_selection import train_test_split\n",
    "from sklearn import preprocessing\n",
    "\n",
    "from sklearn.pipeline import make_pipeline\n",
    "from sklearn.preprocessing import StandardScaler\n",
    "from sklearn.metrics import f1_score,precision_score,recall_score\n",
    "\n",
    "from keras import Model\n",
    "from keras.models import Sequential\n",
    "from keras.layers import Dense, Dropout, Activation,Input,LeakyReLU,ReLU\n",
    "from keras.optimizers import SGD\n",
    "from keras.optimizers import *\n",
    "from keras import backend as K\n",
    "\n",
    "from sklearn.ensemble import RandomForestClassifier\n",
    "\n",
    "import joblib"
   ]
  },
  {
   "cell_type": "markdown",
   "metadata": {},
   "source": [
    "# 2. Importing Training, Gowalla and Brighkite datasets"
   ]
  },
  {
   "cell_type": "markdown",
   "metadata": {},
   "source": [
    "## 2.1. Importing training data\n",
    "The training data is the data we will use to train our future models.  \n",
    "The dataframe is built on the Foursquare data we found. All its features were computed manually before."
   ]
  },
  {
   "cell_type": "code",
   "execution_count": 10,
   "metadata": {
    "colab": {
     "base_uri": "https://localhost:8080/",
     "height": 195
    },
    "id": "RsPqNngZihPm",
    "outputId": "6d1c211a-cc36-40a1-b179-074e39130c2b"
   },
   "outputs": [
    {
     "data": {
      "text/html": [
       "<div>\n",
       "<style scoped>\n",
       "    .dataframe tbody tr th:only-of-type {\n",
       "        vertical-align: middle;\n",
       "    }\n",
       "\n",
       "    .dataframe tbody tr th {\n",
       "        vertical-align: top;\n",
       "    }\n",
       "\n",
       "    .dataframe thead th {\n",
       "        text-align: right;\n",
       "    }\n",
       "</style>\n",
       "<table border=\"1\" class=\"dataframe\">\n",
       "  <thead>\n",
       "    <tr style=\"text-align: right;\">\n",
       "      <th></th>\n",
       "      <th>user</th>\n",
       "      <th>CR</th>\n",
       "      <th>MR</th>\n",
       "      <th>EDR</th>\n",
       "      <th>EIDR</th>\n",
       "      <th>PR</th>\n",
       "      <th>RPR</th>\n",
       "      <th>Is_home</th>\n",
       "      <th>lat</th>\n",
       "      <th>lon</th>\n",
       "      <th>country</th>\n",
       "    </tr>\n",
       "  </thead>\n",
       "  <tbody>\n",
       "    <tr>\n",
       "      <th>0</th>\n",
       "      <td>19</td>\n",
       "      <td>0.756158</td>\n",
       "      <td>0.846154</td>\n",
       "      <td>0.777027</td>\n",
       "      <td>0.772414</td>\n",
       "      <td>0.821211</td>\n",
       "      <td>0.801806</td>\n",
       "      <td>True</td>\n",
       "      <td>38.652989</td>\n",
       "      <td>-73.973113</td>\n",
       "      <td>US</td>\n",
       "    </tr>\n",
       "    <tr>\n",
       "      <th>1</th>\n",
       "      <td>19</td>\n",
       "      <td>0.056650</td>\n",
       "      <td>0.000000</td>\n",
       "      <td>0.054054</td>\n",
       "      <td>0.055172</td>\n",
       "      <td>0.022950</td>\n",
       "      <td>0.037273</td>\n",
       "      <td>False</td>\n",
       "      <td>40.725046</td>\n",
       "      <td>-73.992639</td>\n",
       "      <td>US</td>\n",
       "    </tr>\n",
       "    <tr>\n",
       "      <th>2</th>\n",
       "      <td>19</td>\n",
       "      <td>0.059113</td>\n",
       "      <td>0.000000</td>\n",
       "      <td>0.114865</td>\n",
       "      <td>0.117241</td>\n",
       "      <td>0.026504</td>\n",
       "      <td>0.026315</td>\n",
       "      <td>False</td>\n",
       "      <td>40.726305</td>\n",
       "      <td>-73.984104</td>\n",
       "      <td>US</td>\n",
       "    </tr>\n",
       "    <tr>\n",
       "      <th>3</th>\n",
       "      <td>19</td>\n",
       "      <td>0.036946</td>\n",
       "      <td>0.000000</td>\n",
       "      <td>0.013514</td>\n",
       "      <td>0.013793</td>\n",
       "      <td>0.024816</td>\n",
       "      <td>0.024017</td>\n",
       "      <td>False</td>\n",
       "      <td>40.724191</td>\n",
       "      <td>-73.997563</td>\n",
       "      <td>US</td>\n",
       "    </tr>\n",
       "    <tr>\n",
       "      <th>4</th>\n",
       "      <td>19</td>\n",
       "      <td>0.032020</td>\n",
       "      <td>0.000000</td>\n",
       "      <td>0.013514</td>\n",
       "      <td>0.013793</td>\n",
       "      <td>0.024730</td>\n",
       "      <td>0.026114</td>\n",
       "      <td>False</td>\n",
       "      <td>40.722940</td>\n",
       "      <td>-73.995724</td>\n",
       "      <td>US</td>\n",
       "    </tr>\n",
       "  </tbody>\n",
       "</table>\n",
       "</div>"
      ],
      "text/plain": [
       "   user        CR        MR       EDR      EIDR        PR       RPR  Is_home  \\\n",
       "0    19  0.756158  0.846154  0.777027  0.772414  0.821211  0.801806     True   \n",
       "1    19  0.056650  0.000000  0.054054  0.055172  0.022950  0.037273    False   \n",
       "2    19  0.059113  0.000000  0.114865  0.117241  0.026504  0.026315    False   \n",
       "3    19  0.036946  0.000000  0.013514  0.013793  0.024816  0.024017    False   \n",
       "4    19  0.032020  0.000000  0.013514  0.013793  0.024730  0.026114    False   \n",
       "\n",
       "         lat        lon country  \n",
       "0  38.652989 -73.973113      US  \n",
       "1  40.725046 -73.992639      US  \n",
       "2  40.726305 -73.984104      US  \n",
       "3  40.724191 -73.997563      US  \n",
       "4  40.722940 -73.995724      US  "
      ]
     },
     "execution_count": 10,
     "metadata": {},
     "output_type": "execute_result"
    }
   ],
   "source": [
    "df_training=pd.read_csv(\"data/training_dataset.csv\",index_col = 0)\n",
    "df_training.head()"
   ]
  },
  {
   "cell_type": "markdown",
   "metadata": {},
   "source": [
    "## 2.2. Importing Gowalla Features "
   ]
  },
  {
   "cell_type": "code",
   "execution_count": 11,
   "metadata": {},
   "outputs": [
    {
     "data": {
      "text/html": [
       "<div>\n",
       "<style scoped>\n",
       "    .dataframe tbody tr th:only-of-type {\n",
       "        vertical-align: middle;\n",
       "    }\n",
       "\n",
       "    .dataframe tbody tr th {\n",
       "        vertical-align: top;\n",
       "    }\n",
       "\n",
       "    .dataframe thead th {\n",
       "        text-align: right;\n",
       "    }\n",
       "</style>\n",
       "<table border=\"1\" class=\"dataframe\">\n",
       "  <thead>\n",
       "    <tr style=\"text-align: right;\">\n",
       "      <th></th>\n",
       "      <th>user</th>\n",
       "      <th>CR</th>\n",
       "      <th>MR</th>\n",
       "      <th>EDR</th>\n",
       "      <th>EIDR</th>\n",
       "      <th>PR</th>\n",
       "      <th>RPR</th>\n",
       "      <th>lat</th>\n",
       "      <th>lon</th>\n",
       "    </tr>\n",
       "  </thead>\n",
       "  <tbody>\n",
       "    <tr>\n",
       "      <th>0</th>\n",
       "      <td>0</td>\n",
       "      <td>0.725962</td>\n",
       "      <td>0.894737</td>\n",
       "      <td>1.0</td>\n",
       "      <td>1.0</td>\n",
       "      <td>0.748403</td>\n",
       "      <td>0.800407</td>\n",
       "      <td>34.862264</td>\n",
       "      <td>-98.091842</td>\n",
       "    </tr>\n",
       "    <tr>\n",
       "      <th>1</th>\n",
       "      <td>0</td>\n",
       "      <td>0.110577</td>\n",
       "      <td>0.000000</td>\n",
       "      <td>0.0</td>\n",
       "      <td>0.0</td>\n",
       "      <td>0.071980</td>\n",
       "      <td>0.051105</td>\n",
       "      <td>30.269103</td>\n",
       "      <td>-97.749395</td>\n",
       "    </tr>\n",
       "    <tr>\n",
       "      <th>2</th>\n",
       "      <td>0</td>\n",
       "      <td>0.062500</td>\n",
       "      <td>0.000000</td>\n",
       "      <td>0.0</td>\n",
       "      <td>0.0</td>\n",
       "      <td>0.056549</td>\n",
       "      <td>0.048330</td>\n",
       "      <td>30.267910</td>\n",
       "      <td>-97.749312</td>\n",
       "    </tr>\n",
       "    <tr>\n",
       "      <th>3</th>\n",
       "      <td>0</td>\n",
       "      <td>0.033654</td>\n",
       "      <td>0.017544</td>\n",
       "      <td>0.0</td>\n",
       "      <td>0.0</td>\n",
       "      <td>0.035480</td>\n",
       "      <td>0.027163</td>\n",
       "      <td>30.244860</td>\n",
       "      <td>-97.757163</td>\n",
       "    </tr>\n",
       "    <tr>\n",
       "      <th>4</th>\n",
       "      <td>0</td>\n",
       "      <td>0.028846</td>\n",
       "      <td>0.000000</td>\n",
       "      <td>0.0</td>\n",
       "      <td>0.0</td>\n",
       "      <td>0.038535</td>\n",
       "      <td>0.035271</td>\n",
       "      <td>30.264854</td>\n",
       "      <td>-97.743845</td>\n",
       "    </tr>\n",
       "  </tbody>\n",
       "</table>\n",
       "</div>"
      ],
      "text/plain": [
       "   user        CR        MR  EDR  EIDR        PR       RPR        lat  \\\n",
       "0     0  0.725962  0.894737  1.0   1.0  0.748403  0.800407  34.862264   \n",
       "1     0  0.110577  0.000000  0.0   0.0  0.071980  0.051105  30.269103   \n",
       "2     0  0.062500  0.000000  0.0   0.0  0.056549  0.048330  30.267910   \n",
       "3     0  0.033654  0.017544  0.0   0.0  0.035480  0.027163  30.244860   \n",
       "4     0  0.028846  0.000000  0.0   0.0  0.038535  0.035271  30.264854   \n",
       "\n",
       "         lon  \n",
       "0 -98.091842  \n",
       "1 -97.749395  \n",
       "2 -97.749312  \n",
       "3 -97.757163  \n",
       "4 -97.743845  "
      ]
     },
     "execution_count": 11,
     "metadata": {},
     "output_type": "execute_result"
    }
   ],
   "source": [
    "df_gowalla_features = pd.read_csv(\"data/gowalla_checkin_features.csv\",index_col = 0)\n",
    "df_gowalla_features.head()"
   ]
  },
  {
   "cell_type": "markdown",
   "metadata": {},
   "source": [
    "## 2.3. Importing Brightkite Features"
   ]
  },
  {
   "cell_type": "code",
   "execution_count": 12,
   "metadata": {},
   "outputs": [
    {
     "data": {
      "text/html": [
       "<div>\n",
       "<style scoped>\n",
       "    .dataframe tbody tr th:only-of-type {\n",
       "        vertical-align: middle;\n",
       "    }\n",
       "\n",
       "    .dataframe tbody tr th {\n",
       "        vertical-align: top;\n",
       "    }\n",
       "\n",
       "    .dataframe thead th {\n",
       "        text-align: right;\n",
       "    }\n",
       "</style>\n",
       "<table border=\"1\" class=\"dataframe\">\n",
       "  <thead>\n",
       "    <tr style=\"text-align: right;\">\n",
       "      <th></th>\n",
       "      <th>user</th>\n",
       "      <th>CR</th>\n",
       "      <th>MR</th>\n",
       "      <th>EDR</th>\n",
       "      <th>EIDR</th>\n",
       "      <th>PR</th>\n",
       "      <th>RPR</th>\n",
       "      <th>lat</th>\n",
       "      <th>lon</th>\n",
       "    </tr>\n",
       "  </thead>\n",
       "  <tbody>\n",
       "    <tr>\n",
       "      <th>0</th>\n",
       "      <td>0</td>\n",
       "      <td>0.285204</td>\n",
       "      <td>0.277950</td>\n",
       "      <td>1.0</td>\n",
       "      <td>1.0</td>\n",
       "      <td>0.420218</td>\n",
       "      <td>0.241797</td>\n",
       "      <td>39.693950</td>\n",
       "      <td>-98.427854</td>\n",
       "    </tr>\n",
       "    <tr>\n",
       "      <th>1</th>\n",
       "      <td>0</td>\n",
       "      <td>0.011437</td>\n",
       "      <td>0.021739</td>\n",
       "      <td>0.0</td>\n",
       "      <td>0.0</td>\n",
       "      <td>0.005258</td>\n",
       "      <td>0.020780</td>\n",
       "      <td>39.891383</td>\n",
       "      <td>-105.070814</td>\n",
       "    </tr>\n",
       "    <tr>\n",
       "      <th>2</th>\n",
       "      <td>0</td>\n",
       "      <td>0.076483</td>\n",
       "      <td>0.141304</td>\n",
       "      <td>0.0</td>\n",
       "      <td>0.0</td>\n",
       "      <td>0.015565</td>\n",
       "      <td>0.054985</td>\n",
       "      <td>39.891120</td>\n",
       "      <td>-105.068526</td>\n",
       "    </tr>\n",
       "    <tr>\n",
       "      <th>3</th>\n",
       "      <td>0</td>\n",
       "      <td>0.042888</td>\n",
       "      <td>0.013975</td>\n",
       "      <td>0.0</td>\n",
       "      <td>0.0</td>\n",
       "      <td>0.017623</td>\n",
       "      <td>0.023467</td>\n",
       "      <td>39.750728</td>\n",
       "      <td>-104.999579</td>\n",
       "    </tr>\n",
       "    <tr>\n",
       "      <th>4</th>\n",
       "      <td>0</td>\n",
       "      <td>0.012152</td>\n",
       "      <td>0.006211</td>\n",
       "      <td>0.0</td>\n",
       "      <td>0.0</td>\n",
       "      <td>0.015682</td>\n",
       "      <td>0.007052</td>\n",
       "      <td>39.752790</td>\n",
       "      <td>-104.996794</td>\n",
       "    </tr>\n",
       "  </tbody>\n",
       "</table>\n",
       "</div>"
      ],
      "text/plain": [
       "   user        CR        MR  EDR  EIDR        PR       RPR        lat  \\\n",
       "0     0  0.285204  0.277950  1.0   1.0  0.420218  0.241797  39.693950   \n",
       "1     0  0.011437  0.021739  0.0   0.0  0.005258  0.020780  39.891383   \n",
       "2     0  0.076483  0.141304  0.0   0.0  0.015565  0.054985  39.891120   \n",
       "3     0  0.042888  0.013975  0.0   0.0  0.017623  0.023467  39.750728   \n",
       "4     0  0.012152  0.006211  0.0   0.0  0.015682  0.007052  39.752790   \n",
       "\n",
       "          lon  \n",
       "0  -98.427854  \n",
       "1 -105.070814  \n",
       "2 -105.068526  \n",
       "3 -104.999579  \n",
       "4 -104.996794  "
      ]
     },
     "execution_count": 12,
     "metadata": {},
     "output_type": "execute_result"
    }
   ],
   "source": [
    "df_brightkite_features = pd.read_csv(\"data/brightkite_checkin_features.csv\",index_col = 0)\n",
    "df_brightkite_features.head()"
   ]
  },
  {
   "cell_type": "markdown",
   "metadata": {},
   "source": [
    "# 3. Exploring location distributions\n",
    "- We begin by exploring the location distributions for three different datasets : `training_df`,\\\n",
    "`df_gowalla_features`,`df_brightkite_features`\n",
    "- We will use jointplots and will try to find similarities between the frames."
   ]
  },
  {
   "cell_type": "markdown",
   "metadata": {},
   "source": [
    "## 3.1. Training Dataset"
   ]
  },
  {
   "cell_type": "code",
   "execution_count": 13,
   "metadata": {},
   "outputs": [
    {
     "data": {
      "image/png": "[encoded data removed]",
      "text/plain": [
       "<Figure size 432x432 with 3 Axes>"
      ]
     },
     "metadata": {
      "needs_background": "light"
     },
     "output_type": "display_data"
    }
   ],
   "source": [
    "sns.jointplot(data = df_training, y = 'lat', x = 'lon', kind=\"kde\")\n",
    "plt.title('Longitude Latitude joint distribution of clusters\\' location in Foursquare features',\\\n",
    "          loc='right',pad=70)\n",
    "plt.show()"
   ]
  },
  {
   "cell_type": "markdown",
   "metadata": {},
   "source": [
    "We can see that Foursquare features are distributed over all the world with a high concentration in northen american, european and austrialian continents."
   ]
  },
  {
   "cell_type": "markdown",
   "metadata": {},
   "source": [
    "## 3.2. Gowalla and Brighkite Features\n",
    "- We now do the same work with the original datasets we were provided : the gowalla dataset and the brightkite dataset."
   ]
  },
  {
   "cell_type": "code",
   "execution_count": 14,
   "metadata": {
    "id": "vuFlu-gji0yl"
   },
   "outputs": [
    {
     "data": {
      "image/png": "[encoded data removed]",
      "text/plain": [
       "<Figure size 432x432 with 3 Axes>"
      ]
     },
     "metadata": {
      "needs_background": "light"
     },
     "output_type": "display_data"
    }
   ],
   "source": [
    "sns.jointplot(data = df_gowalla_features, y = 'lat', x = 'lon', kind=\"kde\")\n",
    "plt.title('Longitude Latitude joint distribution of clusters\\' location in Gowalla features',\\\n",
    "          loc='right',pad=70)\n",
    "plt.show()"
   ]
  },
  {
   "cell_type": "code",
   "execution_count": 15,
   "metadata": {
    "scrolled": false
   },
   "outputs": [
    {
     "data": {
      "image/png": "[encoded data removed]",
      "text/plain": [
       "<Figure size 432x432 with 3 Axes>"
      ]
     },
     "metadata": {
      "needs_background": "light"
     },
     "output_type": "display_data"
    }
   ],
   "source": [
    "sns.jointplot(data = df_brightkite_features, y = 'lat', x = 'lon', kind=\"kde\")\n",
    "plt.title('Longitude Latitude joint distribution of clusters\\' location in Brightkite features',\\\n",
    "          loc='right',pad=70)\n",
    "plt.show()"
   ]
  },
  {
   "cell_type": "markdown",
   "metadata": {},
   "source": [
    "- Here, we can clearly see the features' locations for both Gowalla and Brightkite datasets are concentrated in northen america and more precisely in the US.  \n",
    "- In order to have the best accuracy possible in our predictions, we train our model only on the USA : We filter the foursquare dataset in order to only keep USA. This will help us get the best possible predictions in our test datasets."
   ]
  },
  {
   "cell_type": "markdown",
   "metadata": {},
   "source": [
    "# 4. Home Location Prediction:"
   ]
  },
  {
   "cell_type": "markdown",
   "metadata": {},
   "source": [
    "## 4.1. Whole dataset:"
   ]
  },
  {
   "cell_type": "markdown",
   "metadata": {},
   "source": [
    "### 4.1.1. Splitting Data:\n",
    "- As stated before, we choose to train our models only over USA"
   ]
  },
  {
   "cell_type": "code",
   "execution_count": 18,
   "metadata": {},
   "outputs": [],
   "source": [
    "def splitting_data(df_training, country = None, upsampling = True, standerdize = True ):\n",
    "    \"\"\"\n",
    "    function to split our data into a training set, a validation set and a test set\n",
    "    Inputs:\n",
    "        - df_training:dataset used for training\n",
    "        - country : string : specify the abbreviation of countries : 2 Maj letters\n",
    "                    if set to None : take the whole dataset\n",
    "        - upsampling : choose to upsample the trainig set or not\n",
    "        - standerdize : standardise the dataset (features only not the result)\n",
    "        \n",
    "    Outputs:\n",
    "        - X_train : training features\n",
    "        - y_train : training results\n",
    "        - X_val : validation features\n",
    "        - y_val : validation results\n",
    "        - X_test : test features\n",
    "        - y_test : test results\n",
    "        - scaler : scaler that was used to normalize data\n",
    "    \"\"\"\n",
    "    if country:\n",
    "        df_training = df_training.loc[df_training.country == country]\n",
    "    \n",
    "    #test dataframe : 10% of the whole dataframe\n",
    "    df_test = df_training.sample(frac = 0.1)\n",
    "    df_training = df_training[~df_training.index.isin(df_test.index)]\n",
    "    \n",
    "    #X,y are the training data , X : features, y :results\n",
    "    X=df_training[['CR','MR','EDR','EIDR','PR','RPR']].values\n",
    "    y=df_training['Is_home'].values\n",
    "    \n",
    "    #set scaler and standaridize data if the user wants to\n",
    "    if standerdize:\n",
    "        scaler = StandardScaler()\n",
    "        X = scaler.fit_transform(X)\n",
    "    else:\n",
    "        scaler = None\n",
    "    \n",
    "    #generate new features if the user wants to upsample\n",
    "    if upsampling:\n",
    "        oversample = SMOTE()\n",
    "        X, y = oversample.fit_resample(X, y)\n",
    "    \n",
    "    #split data into validation and validation sets\n",
    "    X_train, X_val, y_train, y_val = train_test_split(X, y, test_size=0.2)\n",
    "    \n",
    "    #get test sets\n",
    "    X_test = df_test[['CR','MR','EDR','EIDR','PR','RPR']].values\n",
    "    y_test = df_test['Is_home'].values\n",
    "    \n",
    "    #scale the test features the same way that was done for the training and validation ones\n",
    "    X_test = scaler.transform(X_test)\n",
    "    \n",
    "    return X_train, y_train, X_val, y_val, X_test, y_test, scaler"
   ]
  },
  {
   "cell_type": "code",
   "execution_count": 19,
   "metadata": {
    "id": "Px1Qkw3SpkAp"
   },
   "outputs": [],
   "source": [
    "X_train, y_train, X_val, y_val, X_test, y_test, scaler = splitting_data(df_training)"
   ]
  },
  {
   "cell_type": "markdown",
   "metadata": {},
   "source": [
    "### 4.1.2. Training Support Vector Machine Classifier (SVM classifier)"
   ]
  },
  {
   "cell_type": "code",
   "execution_count": 20,
   "metadata": {
    "colab": {
     "base_uri": "https://localhost:8080/"
    },
    "id": "szYFkO6-m-3s",
    "outputId": "c6998ec1-7183-4f61-c8d8-3021ed11b2f7"
   },
   "outputs": [
    {
     "name": "stdout",
     "output_type": "stream",
     "text": [
      "[LibSVM]"
     ]
    },
    {
     "data": {
      "text/plain": [
       "SVC(class_weight='balanced', kernel='linear', verbose=True)"
      ]
     },
     "execution_count": 20,
     "metadata": {},
     "output_type": "execute_result"
    }
   ],
   "source": [
    "clf_svc = SVC(kernel='linear',verbose=True,class_weight='balanced')\n",
    "clf_svc.fit(X_train, y_train)"
   ]
  },
  {
   "cell_type": "code",
   "execution_count": 22,
   "metadata": {},
   "outputs": [
    {
     "data": {
      "text/plain": [
       "['models/SVC_all.pkl']"
      ]
     },
     "execution_count": 22,
     "metadata": {},
     "output_type": "execute_result"
    }
   ],
   "source": [
    "joblib.dump(clf_svc, 'models/SVC_all.pkl')"
   ]
  },
  {
   "cell_type": "code",
   "execution_count": 23,
   "metadata": {
    "id": "18cRgQ7Ym-7E"
   },
   "outputs": [],
   "source": [
    "y_pred = clf_svc.predict(X_test) > 0.5"
   ]
  },
  {
   "cell_type": "code",
   "execution_count": 24,
   "metadata": {
    "colab": {
     "base_uri": "https://localhost:8080/"
    },
    "id": "XY-YFUBuqqwS",
    "outputId": "24825f7b-fa44-471c-d983-90a325059090"
   },
   "outputs": [
    {
     "data": {
      "text/plain": [
       "0.6503620273531778"
      ]
     },
     "execution_count": 24,
     "metadata": {},
     "output_type": "execute_result"
    }
   ],
   "source": [
    "print('with this SVM Classifier model, we find and f1 score of {} on the test set'.\\\n",
    "      format(f1_score(y_test,y_pred)))"
   ]
  },
  {
   "cell_type": "markdown",
   "metadata": {},
   "source": [
    "### 4.1.3. Training a Neural Network Classifier"
   ]
  },
  {
   "cell_type": "markdown",
   "metadata": {},
   "source": [
    "#### 4.1.3.1. Define f1 metric"
   ]
  },
  {
   "cell_type": "code",
   "execution_count": 25,
   "metadata": {
    "id": "V0Qe-SLyEJdc"
   },
   "outputs": [],
   "source": [
    "#compute recall\n",
    "def recall_m(y_true, y_pred):\n",
    "    true_positives = K.sum(K.round(K.clip(y_true * y_pred, 0, 1)))\n",
    "    possible_positives = K.sum(K.round(K.clip(y_true, 0, 1)))\n",
    "    recall = true_positives / (possible_positives + K.epsilon())\n",
    "    return recall\n",
    "\n",
    "#compute precision\n",
    "def precision_m(y_true, y_pred):\n",
    "    true_positives = K.sum(K.round(K.clip(y_true * y_pred, 0, 1)))\n",
    "    predicted_positives = K.sum(K.round(K.clip(y_pred, 0, 1)))\n",
    "    precision = true_positives / (predicted_positives + K.epsilon())\n",
    "    return precision\n",
    "\n",
    "#compute F1-score\n",
    "def f1_m(y_true, y_pred):\n",
    "    precision = precision_m(y_true, y_pred)\n",
    "    recall = recall_m(y_true, y_pred)\n",
    "    return 2*((precision*recall)/(precision+recall+K.epsilon()))"
   ]
  },
  {
   "cell_type": "markdown",
   "metadata": {},
   "source": [
    "#### 4.1.3.2. Define NN Model"
   ]
  },
  {
   "cell_type": "code",
   "execution_count": 27,
   "metadata": {},
   "outputs": [
    {
     "name": "stdout",
     "output_type": "stream",
     "text": [
      "Model: \"sequential\"\n",
      "_________________________________________________________________\n",
      "Layer (type)                 Output Shape              Param #   \n",
      "=================================================================\n",
      "dense (Dense)                (None, 60)                420       \n",
      "_________________________________________________________________\n",
      "dropout (Dropout)            (None, 60)                0         \n",
      "_________________________________________________________________\n",
      "dense_1 (Dense)              (None, 40)                2440      \n",
      "_________________________________________________________________\n",
      "dropout_1 (Dropout)          (None, 40)                0         \n",
      "_________________________________________________________________\n",
      "dense_2 (Dense)              (None, 30)                1230      \n",
      "_________________________________________________________________\n",
      "dropout_2 (Dropout)          (None, 30)                0         \n",
      "_________________________________________________________________\n",
      "dense_3 (Dense)              (None, 30)                930       \n",
      "_________________________________________________________________\n",
      "dropout_3 (Dropout)          (None, 30)                0         \n",
      "_________________________________________________________________\n",
      "dense_4 (Dense)              (None, 10)                310       \n",
      "_________________________________________________________________\n",
      "dropout_4 (Dropout)          (None, 10)                0         \n",
      "_________________________________________________________________\n",
      "dense_5 (Dense)              (None, 1)                 11        \n",
      "=================================================================\n",
      "Total params: 5,341\n",
      "Trainable params: 5,341\n",
      "Non-trainable params: 0\n",
      "_________________________________________________________________\n"
     ]
    }
   ],
   "source": [
    "model = Sequential([\n",
    "    Dense(60, input_shape = (X_train.shape[1],), activation='relu'),\n",
    "    Dropout(0.5),\n",
    "    Dense(40, activation = 'relu'),\n",
    "    Dropout(0.5),\n",
    "    Dense(30, activation = 'relu'),\n",
    "    Dropout(0.5),\n",
    "    Dense(30, activation = 'relu'),\n",
    "    Dropout(0.5),\n",
    "    Dense(10, activation = 'relu'),\n",
    "    Dropout(0.5),\n",
    "    Dense(1, activation = 'sigmoid')\n",
    "])\n",
    "model.compile(optimizer='adam',\n",
    "              loss='binary_crossentropy',\n",
    "              metrics=[f1_m])\n",
    "model.summary()"
   ]
  },
  {
   "cell_type": "code",
   "execution_count": 28,
   "metadata": {
    "colab": {
     "base_uri": "https://localhost:8080/",
     "height": 1000
    },
    "id": "sP6VWjKys_V9",
    "outputId": "df1e9a42-9445-4f81-e58b-08640fb48785"
   },
   "outputs": [
    {
     "name": "stdout",
     "output_type": "stream",
     "text": [
      "Epoch 1/20\n",
      "20763/20763 [==============================] - 52s 2ms/step - loss: 0.4851 - f1_m: 0.7637 - val_loss: 0.3826 - val_f1_m: 0.8299\n",
      "Epoch 2/20\n",
      "20763/20763 [==============================] - 47s 2ms/step - loss: 0.4355 - f1_m: 0.8088 - val_loss: 0.3849 - val_f1_m: 0.8315\n",
      "Epoch 3/20\n",
      "20763/20763 [==============================] - 49s 2ms/step - loss: 0.4384 - f1_m: 0.8131 - val_loss: 0.3941 - val_f1_m: 0.8301\n",
      "Epoch 4/20\n",
      "20763/20763 [==============================] - 48s 2ms/step - loss: 0.4339 - f1_m: 0.8120 - val_loss: 0.4057 - val_f1_m: 0.8300\n",
      "Epoch 5/20\n",
      "20763/20763 [==============================] - 47s 2ms/step - loss: 0.4332 - f1_m: 0.8146 - val_loss: 0.3912 - val_f1_m: 0.8336\n",
      "Epoch 6/20\n",
      "20763/20763 [==============================] - 51s 2ms/step - loss: 0.4310 - f1_m: 0.8140 - val_loss: 0.3938 - val_f1_m: 0.8333\n",
      "Epoch 7/20\n",
      "20763/20763 [==============================] - 51s 2ms/step - loss: 0.4318 - f1_m: 0.8143 - val_loss: 0.4391 - val_f1_m: 0.8328\n",
      "Epoch 8/20\n",
      "20763/20763 [==============================] - 51s 2ms/step - loss: 0.4317 - f1_m: 0.8130 - val_loss: 0.3972 - val_f1_m: 0.8310\n",
      "Epoch 9/20\n",
      "20763/20763 [==============================] - 52s 2ms/step - loss: 0.4319 - f1_m: 0.8115 - val_loss: 0.4212 - val_f1_m: 0.8343\n",
      "Epoch 10/20\n",
      "20763/20763 [==============================] - 52s 2ms/step - loss: 0.4344 - f1_m: 0.8122 - val_loss: 0.4457 - val_f1_m: 0.8327\n",
      "Epoch 11/20\n",
      "20763/20763 [==============================] - 50s 2ms/step - loss: 0.4331 - f1_m: 0.8088 - val_loss: 0.4064 - val_f1_m: 0.8362\n",
      "Epoch 12/20\n",
      "20763/20763 [==============================] - 49s 2ms/step - loss: 0.4343 - f1_m: 0.8112 - val_loss: 0.4083 - val_f1_m: 0.8340\n",
      "Epoch 13/20\n",
      "20763/20763 [==============================] - 51s 2ms/step - loss: 0.4374 - f1_m: 0.8126 - val_loss: 0.4164 - val_f1_m: 0.8291\n",
      "Epoch 14/20\n",
      "20763/20763 [==============================] - 52s 3ms/step - loss: 0.4357 - f1_m: 0.8091 - val_loss: 0.4036 - val_f1_m: 0.8374\n",
      "Epoch 15/20\n",
      "20763/20763 [==============================] - 37s 2ms/step - loss: 0.4350 - f1_m: 0.8103 - val_loss: 0.4267 - val_f1_m: 0.8312\n",
      "Epoch 16/20\n",
      "20763/20763 [==============================] - 36s 2ms/step - loss: 0.4341 - f1_m: 0.8098 - val_loss: 0.4048 - val_f1_m: 0.8368\n",
      "Epoch 17/20\n",
      "20763/20763 [==============================] - 36s 2ms/step - loss: 0.4347 - f1_m: 0.8134 - val_loss: 0.4260 - val_f1_m: 0.8357\n",
      "Epoch 18/20\n",
      "20763/20763 [==============================] - 36s 2ms/step - loss: 0.4353 - f1_m: 0.8090 - val_loss: 0.4256 - val_f1_m: 0.8343\n",
      "Epoch 19/20\n",
      " 8908/20763 [===========>..................] - ETA: 19s - loss: 0.4330 - f1_m: 0.8147"
     ]
    },
    {
     "ename": "KeyboardInterrupt",
     "evalue": "",
     "output_type": "error",
     "traceback": [
      "\u001b[1;31m---------------------------------------------------------------------------\u001b[0m",
      "\u001b[1;31mKeyboardInterrupt\u001b[0m                         Traceback (most recent call last)",
      "\u001b[1;32m<ipython-input-28-7dfcb36968f4>\u001b[0m in \u001b[0;36m<module>\u001b[1;34m\u001b[0m\n\u001b[1;32m----> 1\u001b[1;33m \u001b[0mhistory\u001b[0m \u001b[1;33m=\u001b[0m \u001b[0mmodel\u001b[0m\u001b[1;33m.\u001b[0m\u001b[0mfit\u001b[0m\u001b[1;33m(\u001b[0m\u001b[0mX_train\u001b[0m\u001b[1;33m,\u001b[0m\u001b[0my_train\u001b[0m\u001b[1;33m,\u001b[0m\u001b[0mvalidation_data\u001b[0m\u001b[1;33m=\u001b[0m\u001b[1;33m(\u001b[0m\u001b[0mX_val\u001b[0m\u001b[1;33m,\u001b[0m\u001b[0my_val\u001b[0m\u001b[1;33m)\u001b[0m\u001b[1;33m,\u001b[0m\u001b[0mepochs\u001b[0m\u001b[1;33m=\u001b[0m\u001b[1;36m20\u001b[0m\u001b[1;33m,\u001b[0m\u001b[0mbatch_size\u001b[0m\u001b[1;33m=\u001b[0m\u001b[1;36m10\u001b[0m\u001b[1;33m)\u001b[0m\u001b[1;33m\u001b[0m\u001b[1;33m\u001b[0m\u001b[0m\n\u001b[0m",
      "\u001b[1;32mC:\\Users\\Selim\\anaconda\\lib\\site-packages\\tensorflow\\python\\keras\\engine\\training.py\u001b[0m in \u001b[0;36mfit\u001b[1;34m(self, x, y, batch_size, epochs, verbose, callbacks, validation_split, validation_data, shuffle, class_weight, sample_weight, initial_epoch, steps_per_epoch, validation_steps, validation_batch_size, validation_freq, max_queue_size, workers, use_multiprocessing)\u001b[0m\n\u001b[0;32m   1098\u001b[0m                 _r=1):\n\u001b[0;32m   1099\u001b[0m               \u001b[0mcallbacks\u001b[0m\u001b[1;33m.\u001b[0m\u001b[0mon_train_batch_begin\u001b[0m\u001b[1;33m(\u001b[0m\u001b[0mstep\u001b[0m\u001b[1;33m)\u001b[0m\u001b[1;33m\u001b[0m\u001b[1;33m\u001b[0m\u001b[0m\n\u001b[1;32m-> 1100\u001b[1;33m               \u001b[0mtmp_logs\u001b[0m \u001b[1;33m=\u001b[0m \u001b[0mself\u001b[0m\u001b[1;33m.\u001b[0m\u001b[0mtrain_function\u001b[0m\u001b[1;33m(\u001b[0m\u001b[0miterator\u001b[0m\u001b[1;33m)\u001b[0m\u001b[1;33m\u001b[0m\u001b[1;33m\u001b[0m\u001b[0m\n\u001b[0m\u001b[0;32m   1101\u001b[0m               \u001b[1;32mif\u001b[0m \u001b[0mdata_handler\u001b[0m\u001b[1;33m.\u001b[0m\u001b[0mshould_sync\u001b[0m\u001b[1;33m:\u001b[0m\u001b[1;33m\u001b[0m\u001b[1;33m\u001b[0m\u001b[0m\n\u001b[0;32m   1102\u001b[0m                 \u001b[0mcontext\u001b[0m\u001b[1;33m.\u001b[0m\u001b[0masync_wait\u001b[0m\u001b[1;33m(\u001b[0m\u001b[1;33m)\u001b[0m\u001b[1;33m\u001b[0m\u001b[1;33m\u001b[0m\u001b[0m\n",
      "\u001b[1;32mC:\\Users\\Selim\\anaconda\\lib\\site-packages\\tensorflow\\python\\eager\\def_function.py\u001b[0m in \u001b[0;36m__call__\u001b[1;34m(self, *args, **kwds)\u001b[0m\n\u001b[0;32m    826\u001b[0m     \u001b[0mtracing_count\u001b[0m \u001b[1;33m=\u001b[0m \u001b[0mself\u001b[0m\u001b[1;33m.\u001b[0m\u001b[0mexperimental_get_tracing_count\u001b[0m\u001b[1;33m(\u001b[0m\u001b[1;33m)\u001b[0m\u001b[1;33m\u001b[0m\u001b[1;33m\u001b[0m\u001b[0m\n\u001b[0;32m    827\u001b[0m     \u001b[1;32mwith\u001b[0m \u001b[0mtrace\u001b[0m\u001b[1;33m.\u001b[0m\u001b[0mTrace\u001b[0m\u001b[1;33m(\u001b[0m\u001b[0mself\u001b[0m\u001b[1;33m.\u001b[0m\u001b[0m_name\u001b[0m\u001b[1;33m)\u001b[0m \u001b[1;32mas\u001b[0m \u001b[0mtm\u001b[0m\u001b[1;33m:\u001b[0m\u001b[1;33m\u001b[0m\u001b[1;33m\u001b[0m\u001b[0m\n\u001b[1;32m--> 828\u001b[1;33m       \u001b[0mresult\u001b[0m \u001b[1;33m=\u001b[0m \u001b[0mself\u001b[0m\u001b[1;33m.\u001b[0m\u001b[0m_call\u001b[0m\u001b[1;33m(\u001b[0m\u001b[1;33m*\u001b[0m\u001b[0margs\u001b[0m\u001b[1;33m,\u001b[0m \u001b[1;33m**\u001b[0m\u001b[0mkwds\u001b[0m\u001b[1;33m)\u001b[0m\u001b[1;33m\u001b[0m\u001b[1;33m\u001b[0m\u001b[0m\n\u001b[0m\u001b[0;32m    829\u001b[0m       \u001b[0mcompiler\u001b[0m \u001b[1;33m=\u001b[0m \u001b[1;34m\"xla\"\u001b[0m \u001b[1;32mif\u001b[0m \u001b[0mself\u001b[0m\u001b[1;33m.\u001b[0m\u001b[0m_experimental_compile\u001b[0m \u001b[1;32melse\u001b[0m \u001b[1;34m\"nonXla\"\u001b[0m\u001b[1;33m\u001b[0m\u001b[1;33m\u001b[0m\u001b[0m\n\u001b[0;32m    830\u001b[0m       \u001b[0mnew_tracing_count\u001b[0m \u001b[1;33m=\u001b[0m \u001b[0mself\u001b[0m\u001b[1;33m.\u001b[0m\u001b[0mexperimental_get_tracing_count\u001b[0m\u001b[1;33m(\u001b[0m\u001b[1;33m)\u001b[0m\u001b[1;33m\u001b[0m\u001b[1;33m\u001b[0m\u001b[0m\n",
      "\u001b[1;32mC:\\Users\\Selim\\anaconda\\lib\\site-packages\\tensorflow\\python\\eager\\def_function.py\u001b[0m in \u001b[0;36m_call\u001b[1;34m(self, *args, **kwds)\u001b[0m\n\u001b[0;32m    853\u001b[0m       \u001b[1;31m# In this case we have created variables on the first call, so we run the\u001b[0m\u001b[1;33m\u001b[0m\u001b[1;33m\u001b[0m\u001b[1;33m\u001b[0m\u001b[0m\n\u001b[0;32m    854\u001b[0m       \u001b[1;31m# defunned version which is guaranteed to never create variables.\u001b[0m\u001b[1;33m\u001b[0m\u001b[1;33m\u001b[0m\u001b[1;33m\u001b[0m\u001b[0m\n\u001b[1;32m--> 855\u001b[1;33m       \u001b[1;32mreturn\u001b[0m \u001b[0mself\u001b[0m\u001b[1;33m.\u001b[0m\u001b[0m_stateless_fn\u001b[0m\u001b[1;33m(\u001b[0m\u001b[1;33m*\u001b[0m\u001b[0margs\u001b[0m\u001b[1;33m,\u001b[0m \u001b[1;33m**\u001b[0m\u001b[0mkwds\u001b[0m\u001b[1;33m)\u001b[0m  \u001b[1;31m# pylint: disable=not-callable\u001b[0m\u001b[1;33m\u001b[0m\u001b[1;33m\u001b[0m\u001b[0m\n\u001b[0m\u001b[0;32m    856\u001b[0m     \u001b[1;32melif\u001b[0m \u001b[0mself\u001b[0m\u001b[1;33m.\u001b[0m\u001b[0m_stateful_fn\u001b[0m \u001b[1;32mis\u001b[0m \u001b[1;32mnot\u001b[0m \u001b[1;32mNone\u001b[0m\u001b[1;33m:\u001b[0m\u001b[1;33m\u001b[0m\u001b[1;33m\u001b[0m\u001b[0m\n\u001b[0;32m    857\u001b[0m       \u001b[1;31m# Release the lock early so that multiple threads can perform the call\u001b[0m\u001b[1;33m\u001b[0m\u001b[1;33m\u001b[0m\u001b[1;33m\u001b[0m\u001b[0m\n",
      "\u001b[1;32mC:\\Users\\Selim\\anaconda\\lib\\site-packages\\tensorflow\\python\\eager\\function.py\u001b[0m in \u001b[0;36m__call__\u001b[1;34m(self, *args, **kwargs)\u001b[0m\n\u001b[0;32m   2940\u001b[0m       (graph_function,\n\u001b[0;32m   2941\u001b[0m        filtered_flat_args) = self._maybe_define_function(args, kwargs)\n\u001b[1;32m-> 2942\u001b[1;33m     return graph_function._call_flat(\n\u001b[0m\u001b[0;32m   2943\u001b[0m         filtered_flat_args, captured_inputs=graph_function.captured_inputs)  # pylint: disable=protected-access\n\u001b[0;32m   2944\u001b[0m \u001b[1;33m\u001b[0m\u001b[0m\n",
      "\u001b[1;32mC:\\Users\\Selim\\anaconda\\lib\\site-packages\\tensorflow\\python\\eager\\function.py\u001b[0m in \u001b[0;36m_call_flat\u001b[1;34m(self, args, captured_inputs, cancellation_manager)\u001b[0m\n\u001b[0;32m   1916\u001b[0m         and executing_eagerly):\n\u001b[0;32m   1917\u001b[0m       \u001b[1;31m# No tape is watching; skip to running the function.\u001b[0m\u001b[1;33m\u001b[0m\u001b[1;33m\u001b[0m\u001b[1;33m\u001b[0m\u001b[0m\n\u001b[1;32m-> 1918\u001b[1;33m       return self._build_call_outputs(self._inference_function.call(\n\u001b[0m\u001b[0;32m   1919\u001b[0m           ctx, args, cancellation_manager=cancellation_manager))\n\u001b[0;32m   1920\u001b[0m     forward_backward = self._select_forward_and_backward_functions(\n",
      "\u001b[1;32mC:\\Users\\Selim\\anaconda\\lib\\site-packages\\tensorflow\\python\\eager\\function.py\u001b[0m in \u001b[0;36mcall\u001b[1;34m(self, ctx, args, cancellation_manager)\u001b[0m\n\u001b[0;32m    553\u001b[0m       \u001b[1;32mwith\u001b[0m \u001b[0m_InterpolateFunctionError\u001b[0m\u001b[1;33m(\u001b[0m\u001b[0mself\u001b[0m\u001b[1;33m)\u001b[0m\u001b[1;33m:\u001b[0m\u001b[1;33m\u001b[0m\u001b[1;33m\u001b[0m\u001b[0m\n\u001b[0;32m    554\u001b[0m         \u001b[1;32mif\u001b[0m \u001b[0mcancellation_manager\u001b[0m \u001b[1;32mis\u001b[0m \u001b[1;32mNone\u001b[0m\u001b[1;33m:\u001b[0m\u001b[1;33m\u001b[0m\u001b[1;33m\u001b[0m\u001b[0m\n\u001b[1;32m--> 555\u001b[1;33m           outputs = execute.execute(\n\u001b[0m\u001b[0;32m    556\u001b[0m               \u001b[0mstr\u001b[0m\u001b[1;33m(\u001b[0m\u001b[0mself\u001b[0m\u001b[1;33m.\u001b[0m\u001b[0msignature\u001b[0m\u001b[1;33m.\u001b[0m\u001b[0mname\u001b[0m\u001b[1;33m)\u001b[0m\u001b[1;33m,\u001b[0m\u001b[1;33m\u001b[0m\u001b[1;33m\u001b[0m\u001b[0m\n\u001b[0;32m    557\u001b[0m               \u001b[0mnum_outputs\u001b[0m\u001b[1;33m=\u001b[0m\u001b[0mself\u001b[0m\u001b[1;33m.\u001b[0m\u001b[0m_num_outputs\u001b[0m\u001b[1;33m,\u001b[0m\u001b[1;33m\u001b[0m\u001b[1;33m\u001b[0m\u001b[0m\n",
      "\u001b[1;32mC:\\Users\\Selim\\anaconda\\lib\\site-packages\\tensorflow\\python\\eager\\execute.py\u001b[0m in \u001b[0;36mquick_execute\u001b[1;34m(op_name, num_outputs, inputs, attrs, ctx, name)\u001b[0m\n\u001b[0;32m     57\u001b[0m   \u001b[1;32mtry\u001b[0m\u001b[1;33m:\u001b[0m\u001b[1;33m\u001b[0m\u001b[1;33m\u001b[0m\u001b[0m\n\u001b[0;32m     58\u001b[0m     \u001b[0mctx\u001b[0m\u001b[1;33m.\u001b[0m\u001b[0mensure_initialized\u001b[0m\u001b[1;33m(\u001b[0m\u001b[1;33m)\u001b[0m\u001b[1;33m\u001b[0m\u001b[1;33m\u001b[0m\u001b[0m\n\u001b[1;32m---> 59\u001b[1;33m     tensors = pywrap_tfe.TFE_Py_Execute(ctx._handle, device_name, op_name,\n\u001b[0m\u001b[0;32m     60\u001b[0m                                         inputs, attrs, num_outputs)\n\u001b[0;32m     61\u001b[0m   \u001b[1;32mexcept\u001b[0m \u001b[0mcore\u001b[0m\u001b[1;33m.\u001b[0m\u001b[0m_NotOkStatusException\u001b[0m \u001b[1;32mas\u001b[0m \u001b[0me\u001b[0m\u001b[1;33m:\u001b[0m\u001b[1;33m\u001b[0m\u001b[1;33m\u001b[0m\u001b[0m\n",
      "\u001b[1;31mKeyboardInterrupt\u001b[0m: "
     ]
    }
   ],
   "source": [
    "history = model.fit(X_train,y_train,validation_data=(X_val,y_val),epochs=20,batch_size=10)"
   ]
  },
  {
   "cell_type": "code",
   "execution_count": null,
   "metadata": {},
   "outputs": [],
   "source": [
    "model.save('models/NN_clf_all')"
   ]
  },
  {
   "cell_type": "code",
   "execution_count": null,
   "metadata": {
    "id": "UWjV-OwlHzpx"
   },
   "outputs": [],
   "source": [
    "y_pred_NN=model.predict(X_test)"
   ]
  },
  {
   "cell_type": "code",
   "execution_count": null,
   "metadata": {},
   "outputs": [],
   "source": [
    "y_pred =y_pred_NN.flatten() > 0.5"
   ]
  },
  {
   "cell_type": "code",
   "execution_count": null,
   "metadata": {
    "colab": {
     "base_uri": "https://localhost:8080/"
    },
    "id": "kU2Hwt2Zs_Zh",
    "outputId": "6f1e8bb3-5436-4772-db77-82a2df70cb30"
   },
   "outputs": [],
   "source": [
    "print('with this Neural network model, we find and f1 score of {} on the test set'.\\\n",
    "      format(f1_score(y_test,y_pred)))"
   ]
  },
  {
   "cell_type": "code",
   "execution_count": null,
   "metadata": {
    "colab": {
     "base_uri": "https://localhost:8080/"
    },
    "id": "H4-uwAfqw5Iv",
    "outputId": "e6f35f1c-7165-4b39-90c5-05ad1f957ff7"
   },
   "outputs": [],
   "source": [
    "y_pred.astype(int)"
   ]
  },
  {
   "cell_type": "markdown",
   "metadata": {
    "id": "iF9CBGFOxlzk"
   },
   "source": [
    "### 4.1.3. Random forest classifier:"
   ]
  },
  {
   "cell_type": "code",
   "execution_count": null,
   "metadata": {
    "id": "C5X0Jv5y5F8n"
   },
   "outputs": [],
   "source": [
    "clf_RF = RandomForestClassifier(n_estimators= 20, max_depth=None, random_state=0,criterion='entropy',\n",
    "                             class_weight='balanced', verbose=True)"
   ]
  },
  {
   "cell_type": "code",
   "execution_count": null,
   "metadata": {},
   "outputs": [],
   "source": [
    "clf_RF.fit(X_train, y_train)"
   ]
  },
  {
   "cell_type": "code",
   "execution_count": null,
   "metadata": {},
   "outputs": [],
   "source": [
    "y_pred = clf.predict(X_test)"
   ]
  },
  {
   "cell_type": "code",
   "execution_count": null,
   "metadata": {},
   "outputs": [],
   "source": [
    "print('with this Random forest model, we find and f1 score of {} on the test set'.\\\n",
    "      format(f1_score(y_test,y_pred)))"
   ]
  },
  {
   "cell_type": "code",
   "execution_count": null,
   "metadata": {},
   "outputs": [],
   "source": [
    "joblib.dump(clf_RF, 'models/RF_all.pkl')"
   ]
  },
  {
   "cell_type": "code",
   "execution_count": null,
   "metadata": {},
   "outputs": [],
   "source": [
    "scaler"
   ]
  },
  {
   "cell_type": "code",
   "execution_count": null,
   "metadata": {},
   "outputs": [],
   "source": [
    "joblib.dump(scaler,'models/scaler_all.pkl')"
   ]
  },
  {
   "cell_type": "markdown",
   "metadata": {},
   "source": [
    "## 4.2. Only USA:\n",
    "- We do the same work we did previously but working only with USA\n",
    "- We will use the variables used before in order to preserve memory"
   ]
  },
  {
   "cell_type": "code",
   "execution_count": null,
   "metadata": {},
   "outputs": [],
   "source": [
    "X_train, y_train, X_val, y_val, X_test, y_test, scaler = splitting_data(df_training, country='US')"
   ]
  },
  {
   "cell_type": "markdown",
   "metadata": {},
   "source": [
    "### 4.2.2. Training Support Vector Machine Classifier (SVM classifier)"
   ]
  },
  {
   "cell_type": "code",
   "execution_count": null,
   "metadata": {},
   "outputs": [],
   "source": [
    "#Since we have less data, we can use a degree 3 SVM\n",
    "clf_svc = SVC(kernel='poly',degree=3,verbose=True,class_weight='balanced')\n",
    "clf_svc.fit(X_train, y_train)"
   ]
  },
  {
   "cell_type": "code",
   "execution_count": null,
   "metadata": {},
   "outputs": [],
   "source": [
    "joblib.dump(clf_svc, 'models/SVC_USA.pkl')"
   ]
  },
  {
   "cell_type": "code",
   "execution_count": null,
   "metadata": {},
   "outputs": [],
   "source": [
    "y_pred = clf_svc.predict(X_test) > 0.5"
   ]
  },
  {
   "cell_type": "code",
   "execution_count": null,
   "metadata": {},
   "outputs": [],
   "source": [
    "print('with this SVM Classifier model, we find and f1 score of {} on the test set'.\\\n",
    "      format(f1_score(y_test,y_pred)))"
   ]
  },
  {
   "cell_type": "markdown",
   "metadata": {},
   "source": [
    "### 4.2.3. Training a Neural Network Classifier"
   ]
  },
  {
   "cell_type": "markdown",
   "metadata": {},
   "source": [
    "The f1 metric stays the same, the architecture of the Neural Network too"
   ]
  },
  {
   "cell_type": "code",
   "execution_count": null,
   "metadata": {},
   "outputs": [],
   "source": [
    "history = model.fit(X_train,y_train,validation_data=(X_val,y_val),epochs=20,batch_size=10)"
   ]
  },
  {
   "cell_type": "code",
   "execution_count": null,
   "metadata": {},
   "outputs": [],
   "source": [
    "model.save('models/NN_clf_USA')"
   ]
  },
  {
   "cell_type": "code",
   "execution_count": null,
   "metadata": {},
   "outputs": [],
   "source": [
    "y_pred_NN=model.predict(X_test)"
   ]
  },
  {
   "cell_type": "code",
   "execution_count": null,
   "metadata": {},
   "outputs": [],
   "source": [
    "y_pred =y_pred_NN.flatten() > 0.5"
   ]
  },
  {
   "cell_type": "code",
   "execution_count": null,
   "metadata": {},
   "outputs": [],
   "source": [
    "print('with this Neural network model, we find and f1 score of {} on the test set'.\\\n",
    "      format(f1_score(y_test,y_pred)))"
   ]
  },
  {
   "cell_type": "code",
   "execution_count": null,
   "metadata": {},
   "outputs": [],
   "source": [
    "y_pred.astype(int)"
   ]
  },
  {
   "cell_type": "markdown",
   "metadata": {},
   "source": [
    "### 4.2.3. Random forest classifier:"
   ]
  },
  {
   "cell_type": "code",
   "execution_count": null,
   "metadata": {},
   "outputs": [],
   "source": [
    "clf_RF = RandomForestClassifier(n_estimators= 20, max_depth=None, random_state=0,criterion='entropy',\n",
    "                             class_weight='balanced', verbose=True)"
   ]
  },
  {
   "cell_type": "code",
   "execution_count": null,
   "metadata": {},
   "outputs": [],
   "source": [
    "clf_RF.fit(X_train, y_train)"
   ]
  },
  {
   "cell_type": "code",
   "execution_count": null,
   "metadata": {},
   "outputs": [],
   "source": [
    "y_pred = clf.predict(X_test)"
   ]
  },
  {
   "cell_type": "code",
   "execution_count": null,
   "metadata": {},
   "outputs": [],
   "source": [
    "print('with this Random forest model, we find and f1 score of {} on the test set'.\\\n",
    "      format(f1_score(y_test,y_pred)))"
   ]
  },
  {
   "cell_type": "code",
   "execution_count": null,
   "metadata": {},
   "outputs": [],
   "source": [
    "joblib.dump(clf_RF, 'models/RF_USA.pkl')"
   ]
  },
  {
   "cell_type": "code",
   "execution_count": null,
   "metadata": {},
   "outputs": [],
   "source": [
    "scaler"
   ]
  },
  {
   "cell_type": "code",
   "execution_count": null,
   "metadata": {},
   "outputs": [],
   "source": [
    "joblib.dump(scaler,'models/scaler_all.pkl')"
   ]
  },
  {
   "cell_type": "code",
   "execution_count": null,
   "metadata": {},
   "outputs": [],
   "source": []
  }
 ],
 "metadata": {
  "colab": {
   "authorship_tag": "ABX9TyPRuLxBMc7qMLNadvFoExoi",
   "collapsed_sections": [],
   "include_colab_link": true,
   "name": "SVM.ipynb",
   "provenance": []
  },
  "kernelspec": {
   "display_name": "Python 3",
   "language": "python",
   "name": "python3"
  },
  "language_info": {
   "codemirror_mode": {
    "name": "ipython",
    "version": 3
   },
   "file_extension": ".py",
   "mimetype": "text/x-python",
   "name": "python",
   "nbconvert_exporter": "python",
   "pygments_lexer": "ipython3",
   "version": "3.8.5"
  }
 },
 "nbformat": 4,
 "nbformat_minor": 1
}
