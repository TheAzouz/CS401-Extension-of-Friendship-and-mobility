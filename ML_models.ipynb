{
  "nbformat": 4,
  "nbformat_minor": 0,
  "metadata": {
    "colab": {
      "name": "SVM.ipynb",
      "provenance": [],
      "collapsed_sections": [],
      "authorship_tag": "ABX9TyPz9WvpIIpDxWmw+te3vinN",
      "include_colab_link": true
    },
    "kernelspec": {
      "name": "python3",
      "display_name": "Python 3"
    }
  },
  "cells": [
    {
      "cell_type": "markdown",
      "metadata": {
        "id": "view-in-github",
        "colab_type": "text"
      },
      "source": [
        "<a href=\"https://colab.research.google.com/github/TheAzouz/Project_ADA/blob/main/ML_models.ipynb\" target=\"_parent\"><img src=\"https://colab.research.google.com/assets/colab-badge.svg\" alt=\"Open In Colab\"/></a>"
      ]
    },
    {
      "cell_type": "code",
      "metadata": {
        "colab": {
          "base_uri": "https://localhost:8080/"
        },
        "id": "MdHy-LTjh_Rk",
        "outputId": "a9e5be3f-bfea-416f-a9cc-bcec68d3dc61"
      },
      "source": [
        "from google.colab import drive\r\n",
        "drive.mount ('/content/drive')"
      ],
      "execution_count": 2,
      "outputs": [
        {
          "output_type": "stream",
          "text": [
            "Drive already mounted at /content/drive; to attempt to forcibly remount, call drive.mount(\"/content/drive\", force_remount=True).\n"
          ],
          "name": "stdout"
        }
      ]
    },
    {
      "cell_type": "code",
      "metadata": {
        "colab": {
          "base_uri": "https://localhost:8080/"
        },
        "id": "SJkTrHooiEEd",
        "outputId": "638a0e41-c4d0-4f7a-8462-82196dad4fb8"
      },
      "source": [
        "cd \"drive/My Drive/Colab Notebooks/ADA_rami\""
      ],
      "execution_count": 3,
      "outputs": [
        {
          "output_type": "stream",
          "text": [
            "/content/drive/My Drive/Colab Notebooks/ADA_rami\n"
          ],
          "name": "stdout"
        }
      ]
    },
    {
      "cell_type": "code",
      "metadata": {
        "id": "VCTx22OriOVi"
      },
      "source": [
        "import csv\r\n",
        "import pandas as pd\r\n",
        "import numpy as np\r\n",
        "\r\n"
      ],
      "execution_count": 4,
      "outputs": []
    },
    {
      "cell_type": "code",
      "metadata": {
        "colab": {
          "base_uri": "https://localhost:8080/"
        },
        "id": "PFqqM7cRigxk",
        "outputId": "47f83d4e-769b-4d00-cea3-9563f4a593f4"
      },
      "source": [
        "ls"
      ],
      "execution_count": 5,
      "outputs": [
        {
          "output_type": "stream",
          "text": [
            "training_test_set_anonymized.csv\n"
          ],
          "name": "stdout"
        }
      ]
    },
    {
      "cell_type": "code",
      "metadata": {
        "colab": {
          "base_uri": "https://localhost:8080/",
          "height": 236
        },
        "id": "RsPqNngZihPm",
        "outputId": "258b6aab-f67a-46af-a37c-719ea3a24756"
      },
      "source": [
        "df=pd.read_csv(\"training_test_set_anonymized.csv\",sep=',')\r\n",
        "df.head()"
      ],
      "execution_count": 6,
      "outputs": [
        {
          "output_type": "execute_result",
          "data": {
            "text/html": [
              "<div>\n",
              "<style scoped>\n",
              "    .dataframe tbody tr th:only-of-type {\n",
              "        vertical-align: middle;\n",
              "    }\n",
              "\n",
              "    .dataframe tbody tr th {\n",
              "        vertical-align: top;\n",
              "    }\n",
              "\n",
              "    .dataframe thead th {\n",
              "        text-align: right;\n",
              "    }\n",
              "</style>\n",
              "<table border=\"1\" class=\"dataframe\">\n",
              "  <thead>\n",
              "    <tr style=\"text-align: right;\">\n",
              "      <th></th>\n",
              "      <th>Unnamed: 0</th>\n",
              "      <th>checkin_ratio</th>\n",
              "      <th>daily_total_checkin_rate</th>\n",
              "      <th>end_of_day_ratio</th>\n",
              "      <th>end_of_inactive_day_ratio</th>\n",
              "      <th>is_home</th>\n",
              "      <th>kilometer_distance_to_most_checked_in</th>\n",
              "      <th>midnight_ratio</th>\n",
              "      <th>num_of_total_checkins</th>\n",
              "      <th>number_of_checkins_at_this_location</th>\n",
              "      <th>page_rank</th>\n",
              "      <th>reverse_page_rank</th>\n",
              "      <th>user_id</th>\n",
              "    </tr>\n",
              "  </thead>\n",
              "  <tbody>\n",
              "    <tr>\n",
              "      <th>0</th>\n",
              "      <td>0</td>\n",
              "      <td>0.086957</td>\n",
              "      <td>10.003725</td>\n",
              "      <td>0.000000</td>\n",
              "      <td>0.000000</td>\n",
              "      <td>False</td>\n",
              "      <td>6.833662</td>\n",
              "      <td>0.0</td>\n",
              "      <td>23</td>\n",
              "      <td>2</td>\n",
              "      <td>0.023198</td>\n",
              "      <td>0.114258</td>\n",
              "      <td>1</td>\n",
              "    </tr>\n",
              "    <tr>\n",
              "      <th>1</th>\n",
              "      <td>1</td>\n",
              "      <td>0.043478</td>\n",
              "      <td>10.003725</td>\n",
              "      <td>0.000000</td>\n",
              "      <td>0.000000</td>\n",
              "      <td>False</td>\n",
              "      <td>8.456719</td>\n",
              "      <td>0.0</td>\n",
              "      <td>23</td>\n",
              "      <td>1</td>\n",
              "      <td>0.033057</td>\n",
              "      <td>0.061761</td>\n",
              "      <td>1</td>\n",
              "    </tr>\n",
              "    <tr>\n",
              "      <th>2</th>\n",
              "      <td>2</td>\n",
              "      <td>0.434783</td>\n",
              "      <td>10.003725</td>\n",
              "      <td>0.666667</td>\n",
              "      <td>0.666667</td>\n",
              "      <td>True</td>\n",
              "      <td>0.000000</td>\n",
              "      <td>1.0</td>\n",
              "      <td>23</td>\n",
              "      <td>10</td>\n",
              "      <td>0.294426</td>\n",
              "      <td>0.245317</td>\n",
              "      <td>1</td>\n",
              "    </tr>\n",
              "    <tr>\n",
              "      <th>3</th>\n",
              "      <td>3</td>\n",
              "      <td>0.086957</td>\n",
              "      <td>10.003725</td>\n",
              "      <td>0.000000</td>\n",
              "      <td>0.000000</td>\n",
              "      <td>False</td>\n",
              "      <td>0.326270</td>\n",
              "      <td>0.0</td>\n",
              "      <td>23</td>\n",
              "      <td>2</td>\n",
              "      <td>0.123303</td>\n",
              "      <td>0.111886</td>\n",
              "      <td>1</td>\n",
              "    </tr>\n",
              "    <tr>\n",
              "      <th>4</th>\n",
              "      <td>4</td>\n",
              "      <td>0.130435</td>\n",
              "      <td>10.003725</td>\n",
              "      <td>0.000000</td>\n",
              "      <td>0.000000</td>\n",
              "      <td>False</td>\n",
              "      <td>0.707318</td>\n",
              "      <td>0.0</td>\n",
              "      <td>23</td>\n",
              "      <td>3</td>\n",
              "      <td>0.175707</td>\n",
              "      <td>0.176912</td>\n",
              "      <td>1</td>\n",
              "    </tr>\n",
              "  </tbody>\n",
              "</table>\n",
              "</div>"
            ],
            "text/plain": [
              "   Unnamed: 0  checkin_ratio  ...  reverse_page_rank  user_id\n",
              "0           0       0.086957  ...           0.114258        1\n",
              "1           1       0.043478  ...           0.061761        1\n",
              "2           2       0.434783  ...           0.245317        1\n",
              "3           3       0.086957  ...           0.111886        1\n",
              "4           4       0.130435  ...           0.176912        1\n",
              "\n",
              "[5 rows x 13 columns]"
            ]
          },
          "metadata": {
            "tags": []
          },
          "execution_count": 6
        }
      ]
    },
    {
      "cell_type": "code",
      "metadata": {
        "colab": {
          "base_uri": "https://localhost:8080/",
          "height": 230
        },
        "id": "05J6i8xokBmO",
        "outputId": "b4511d85-e22d-43a6-9d50-3eedf97a6107"
      },
      "source": [
        "trial=df.groupby('user_id').agg({'daily_total_checkin_rate':'std'})\r\n",
        "trial.head()"
      ],
      "execution_count": 7,
      "outputs": [
        {
          "output_type": "execute_result",
          "data": {
            "text/html": [
              "<div>\n",
              "<style scoped>\n",
              "    .dataframe tbody tr th:only-of-type {\n",
              "        vertical-align: middle;\n",
              "    }\n",
              "\n",
              "    .dataframe tbody tr th {\n",
              "        vertical-align: top;\n",
              "    }\n",
              "\n",
              "    .dataframe thead th {\n",
              "        text-align: right;\n",
              "    }\n",
              "</style>\n",
              "<table border=\"1\" class=\"dataframe\">\n",
              "  <thead>\n",
              "    <tr style=\"text-align: right;\">\n",
              "      <th></th>\n",
              "      <th>daily_total_checkin_rate</th>\n",
              "    </tr>\n",
              "    <tr>\n",
              "      <th>user_id</th>\n",
              "      <th></th>\n",
              "    </tr>\n",
              "  </thead>\n",
              "  <tbody>\n",
              "    <tr>\n",
              "      <th>1</th>\n",
              "      <td>0.0</td>\n",
              "    </tr>\n",
              "    <tr>\n",
              "      <th>2</th>\n",
              "      <td>0.0</td>\n",
              "    </tr>\n",
              "    <tr>\n",
              "      <th>3</th>\n",
              "      <td>0.0</td>\n",
              "    </tr>\n",
              "    <tr>\n",
              "      <th>4</th>\n",
              "      <td>0.0</td>\n",
              "    </tr>\n",
              "    <tr>\n",
              "      <th>5</th>\n",
              "      <td>0.0</td>\n",
              "    </tr>\n",
              "  </tbody>\n",
              "</table>\n",
              "</div>"
            ],
            "text/plain": [
              "         daily_total_checkin_rate\n",
              "user_id                          \n",
              "1                             0.0\n",
              "2                             0.0\n",
              "3                             0.0\n",
              "4                             0.0\n",
              "5                             0.0"
            ]
          },
          "metadata": {
            "tags": []
          },
          "execution_count": 7
        }
      ]
    },
    {
      "cell_type": "code",
      "metadata": {
        "colab": {
          "base_uri": "https://localhost:8080/",
          "height": 219
        },
        "id": "iIAZxcWPiwAT",
        "outputId": "660a8cc2-944e-46da-f157-8aa0436f4ebd"
      },
      "source": [
        "df_tmp=df[['checkin_ratio','end_of_day_ratio','end_of_inactive_day_ratio','midnight_ratio','kilometer_distance_to_most_checked_in','page_rank','reverse_page_rank','is_home']]\r\n",
        "df_tmp.head()"
      ],
      "execution_count": 8,
      "outputs": [
        {
          "output_type": "execute_result",
          "data": {
            "text/html": [
              "<div>\n",
              "<style scoped>\n",
              "    .dataframe tbody tr th:only-of-type {\n",
              "        vertical-align: middle;\n",
              "    }\n",
              "\n",
              "    .dataframe tbody tr th {\n",
              "        vertical-align: top;\n",
              "    }\n",
              "\n",
              "    .dataframe thead th {\n",
              "        text-align: right;\n",
              "    }\n",
              "</style>\n",
              "<table border=\"1\" class=\"dataframe\">\n",
              "  <thead>\n",
              "    <tr style=\"text-align: right;\">\n",
              "      <th></th>\n",
              "      <th>checkin_ratio</th>\n",
              "      <th>end_of_day_ratio</th>\n",
              "      <th>end_of_inactive_day_ratio</th>\n",
              "      <th>midnight_ratio</th>\n",
              "      <th>kilometer_distance_to_most_checked_in</th>\n",
              "      <th>page_rank</th>\n",
              "      <th>reverse_page_rank</th>\n",
              "      <th>is_home</th>\n",
              "    </tr>\n",
              "  </thead>\n",
              "  <tbody>\n",
              "    <tr>\n",
              "      <th>0</th>\n",
              "      <td>0.086957</td>\n",
              "      <td>0.000000</td>\n",
              "      <td>0.000000</td>\n",
              "      <td>0.0</td>\n",
              "      <td>6.833662</td>\n",
              "      <td>0.023198</td>\n",
              "      <td>0.114258</td>\n",
              "      <td>False</td>\n",
              "    </tr>\n",
              "    <tr>\n",
              "      <th>1</th>\n",
              "      <td>0.043478</td>\n",
              "      <td>0.000000</td>\n",
              "      <td>0.000000</td>\n",
              "      <td>0.0</td>\n",
              "      <td>8.456719</td>\n",
              "      <td>0.033057</td>\n",
              "      <td>0.061761</td>\n",
              "      <td>False</td>\n",
              "    </tr>\n",
              "    <tr>\n",
              "      <th>2</th>\n",
              "      <td>0.434783</td>\n",
              "      <td>0.666667</td>\n",
              "      <td>0.666667</td>\n",
              "      <td>1.0</td>\n",
              "      <td>0.000000</td>\n",
              "      <td>0.294426</td>\n",
              "      <td>0.245317</td>\n",
              "      <td>True</td>\n",
              "    </tr>\n",
              "    <tr>\n",
              "      <th>3</th>\n",
              "      <td>0.086957</td>\n",
              "      <td>0.000000</td>\n",
              "      <td>0.000000</td>\n",
              "      <td>0.0</td>\n",
              "      <td>0.326270</td>\n",
              "      <td>0.123303</td>\n",
              "      <td>0.111886</td>\n",
              "      <td>False</td>\n",
              "    </tr>\n",
              "    <tr>\n",
              "      <th>4</th>\n",
              "      <td>0.130435</td>\n",
              "      <td>0.000000</td>\n",
              "      <td>0.000000</td>\n",
              "      <td>0.0</td>\n",
              "      <td>0.707318</td>\n",
              "      <td>0.175707</td>\n",
              "      <td>0.176912</td>\n",
              "      <td>False</td>\n",
              "    </tr>\n",
              "  </tbody>\n",
              "</table>\n",
              "</div>"
            ],
            "text/plain": [
              "   checkin_ratio  end_of_day_ratio  ...  reverse_page_rank  is_home\n",
              "0       0.086957          0.000000  ...           0.114258    False\n",
              "1       0.043478          0.000000  ...           0.061761    False\n",
              "2       0.434783          0.666667  ...           0.245317     True\n",
              "3       0.086957          0.000000  ...           0.111886    False\n",
              "4       0.130435          0.000000  ...           0.176912    False\n",
              "\n",
              "[5 rows x 8 columns]"
            ]
          },
          "metadata": {
            "tags": []
          },
          "execution_count": 8
        }
      ]
    },
    {
      "cell_type": "code",
      "metadata": {
        "id": "vuFlu-gji0yl"
      },
      "source": [
        "from sklearn.svm import SVC\r\n",
        "from sklearn.model_selection import train_test_split\r\n",
        "from sklearn import preprocessing"
      ],
      "execution_count": 9,
      "outputs": []
    },
    {
      "cell_type": "code",
      "metadata": {
        "id": "BFJyT9iNm-1Y"
      },
      "source": [
        "X=df[['checkin_ratio','end_of_day_ratio','end_of_inactive_day_ratio','midnight_ratio',\\\r\n",
        "      'kilometer_distance_to_most_checked_in','page_rank','reverse_page_rank']].values\r\n",
        "Y=df_tmp['is_home'].values\r\n",
        "\r\n",
        "X_train, X_test, y_train, y_test = train_test_split(preprocessing.scale(X), Y, test_size=0.2, random_state=0)"
      ],
      "execution_count": 171,
      "outputs": []
    },
    {
      "cell_type": "code",
      "metadata": {
        "id": "Px1Qkw3SpkAp"
      },
      "source": [
        "from sklearn.pipeline import make_pipeline\r\n",
        "from sklearn.preprocessing import StandardScaler\r\n",
        "from sklearn.metrics import f1_score,precision_score,recall_score"
      ],
      "execution_count": 11,
      "outputs": []
    },
    {
      "cell_type": "code",
      "metadata": {
        "colab": {
          "base_uri": "https://localhost:8080/"
        },
        "id": "szYFkO6-m-3s",
        "outputId": "0d8de87a-954a-4f34-9db7-e827e34154c0"
      },
      "source": [
        "clf = make_pipeline(StandardScaler(), SVC(kernel='poly',degree=3))\r\n",
        "clf.fit(X_train, y_train)"
      ],
      "execution_count": 187,
      "outputs": [
        {
          "output_type": "execute_result",
          "data": {
            "text/plain": [
              "Pipeline(memory=None,\n",
              "         steps=[('standardscaler',\n",
              "                 StandardScaler(copy=True, with_mean=True, with_std=True)),\n",
              "                ('svc',\n",
              "                 SVC(C=1.0, break_ties=False, cache_size=200, class_weight=None,\n",
              "                     coef0=0.0, decision_function_shape='ovr', degree=3,\n",
              "                     gamma='scale', kernel='poly', max_iter=-1,\n",
              "                     probability=False, random_state=None, shrinking=True,\n",
              "                     tol=0.001, verbose=False))],\n",
              "         verbose=False)"
            ]
          },
          "metadata": {
            "tags": []
          },
          "execution_count": 187
        }
      ]
    },
    {
      "cell_type": "code",
      "metadata": {
        "id": "18cRgQ7Ym-7E"
      },
      "source": [
        "y_pred=clf.predict(X_test)"
      ],
      "execution_count": 188,
      "outputs": []
    },
    {
      "cell_type": "code",
      "metadata": {
        "colab": {
          "base_uri": "https://localhost:8080/"
        },
        "id": "XY-YFUBuqqwS",
        "outputId": "b7b24df5-2659-46c2-d96d-d73754a619b6"
      },
      "source": [
        "f1_score(y_test,y_pred)"
      ],
      "execution_count": 189,
      "outputs": [
        {
          "output_type": "execute_result",
          "data": {
            "text/plain": [
              "0.7904761904761904"
            ]
          },
          "metadata": {
            "tags": []
          },
          "execution_count": 189
        }
      ]
    },
    {
      "cell_type": "code",
      "metadata": {
        "colab": {
          "base_uri": "https://localhost:8080/"
        },
        "id": "o0ymS_7Xq76T",
        "outputId": "a23f8731-1aac-45fc-d16b-305c930bdba8"
      },
      "source": [
        "precision_score(y_test,y_pred)"
      ],
      "execution_count": 190,
      "outputs": [
        {
          "output_type": "execute_result",
          "data": {
            "text/plain": [
              "0.8736842105263158"
            ]
          },
          "metadata": {
            "tags": []
          },
          "execution_count": 190
        }
      ]
    },
    {
      "cell_type": "code",
      "metadata": {
        "colab": {
          "base_uri": "https://localhost:8080/"
        },
        "id": "dsBjZpS3uy40",
        "outputId": "446dace5-6a8e-4db9-87d7-388a1591d11b"
      },
      "source": [
        "recall_score(y_test,y_pred)"
      ],
      "execution_count": 191,
      "outputs": [
        {
          "output_type": "execute_result",
          "data": {
            "text/plain": [
              "0.7217391304347827"
            ]
          },
          "metadata": {
            "tags": []
          },
          "execution_count": 191
        }
      ]
    },
    {
      "cell_type": "code",
      "metadata": {
        "id": "PEDx14auDhu2"
      },
      "source": [
        ""
      ],
      "execution_count": null,
      "outputs": []
    },
    {
      "cell_type": "markdown",
      "metadata": {
        "id": "Wb23q93Mi81l"
      },
      "source": [
        ""
      ]
    },
    {
      "cell_type": "code",
      "metadata": {
        "id": "dmG1stZ4s_SL"
      },
      "source": [
        "from keras import Model\r\n",
        "from keras.models import Sequential\r\n",
        "from keras.layers import Dense, Dropout, Activation,Input,LeakyReLU,ReLU\r\n",
        "from keras.optimizers import SGD\r\n",
        "from keras.optimizers import *\r\n",
        "from keras import backend as K"
      ],
      "execution_count": 141,
      "outputs": []
    },
    {
      "cell_type": "code",
      "metadata": {
        "id": "V0Qe-SLyEJdc"
      },
      "source": [
        "from keras import backend as K\r\n",
        "\r\n",
        "#compute recall\r\n",
        "def recall_m(y_true, y_pred):\r\n",
        "    true_positives = K.sum(K.round(K.clip(y_true * y_pred, 0, 1)))\r\n",
        "    possible_positives = K.sum(K.round(K.clip(y_true, 0, 1)))\r\n",
        "    recall = true_positives / (possible_positives + K.epsilon())\r\n",
        "    return recall\r\n",
        "\r\n",
        "#compute precision\r\n",
        "def precision_m(y_true, y_pred):\r\n",
        "    true_positives = K.sum(K.round(K.clip(y_true * y_pred, 0, 1)))\r\n",
        "    predicted_positives = K.sum(K.round(K.clip(y_pred, 0, 1)))\r\n",
        "    precision = true_positives / (predicted_positives + K.epsilon())\r\n",
        "    return precision\r\n",
        "\r\n",
        "#compute F1-score\r\n",
        "def f1_m(y_true, y_pred):\r\n",
        "    precision = precision_m(y_true, y_pred)\r\n",
        "    recall = recall_m(y_true, y_pred)\r\n",
        "    return 2*((precision*recall)/(precision+recall+K.epsilon()))"
      ],
      "execution_count": 134,
      "outputs": []
    },
    {
      "cell_type": "code",
      "metadata": {
        "id": "ojnkONEZs_UG"
      },
      "source": [
        "input=Input((X_train.shape[1]))\r\n",
        "d1=Dense(4)(input)\r\n",
        "d1=LeakyReLU(0.3)(d1)\r\n",
        "d1=Dropout(0.5)(d1)\r\n",
        "d2=Dense(16)(d1)\r\n",
        "d2=LeakyReLU(0.3)(d2)\r\n",
        "d2=Dropout(0.5)(d2)\r\n",
        "d3=Dense(64)(d2)\r\n",
        "d3=ReLU(0.3)(d3)\r\n",
        "d3=Dropout(0.5)(d3)\r\n",
        "d4=Dense(2, activation='sigmoid')(d3)\r\n",
        "d4=Dropout(0.3)(d4)\r\n",
        "model=Model(inputs=input,outputs=d4)\r\n",
        "sgd=SGD(lr=1e-8,decay=1e-9,momentum=0.9,nesterov=True)\r\n",
        "aa=np.asarray([[0,1 ] if y_train[i] else [1,0] for i in range (len(y_train))])\r\n",
        "aa=aa.reshape(len(y_train),2)"
      ],
      "execution_count": 182,
      "outputs": []
    },
    {
      "cell_type": "code",
      "metadata": {
        "id": "1bgyoUlCwMDT"
      },
      "source": [
        "model.compile(loss='binary_crossentropy',optimizer=Adam(),metrics=f1_m)"
      ],
      "execution_count": 183,
      "outputs": []
    },
    {
      "cell_type": "code",
      "metadata": {
        "colab": {
          "base_uri": "https://localhost:8080/"
        },
        "id": "sP6VWjKys_V9",
        "outputId": "c3a45141-471d-45fc-8b1c-e212f7363041"
      },
      "source": [
        "model.fit(X_train,aa,epochs=10,batch_size=4)"
      ],
      "execution_count": 184,
      "outputs": [
        {
          "output_type": "stream",
          "text": [
            "Epoch 1/10\n",
            "15763/15763 [==============================] - 18s 1ms/step - loss: 2.3701 - f1_m: 0.7881\n",
            "Epoch 2/10\n",
            "15763/15763 [==============================] - 18s 1ms/step - loss: 2.3536 - f1_m: 0.7919\n",
            "Epoch 3/10\n",
            "15763/15763 [==============================] - 18s 1ms/step - loss: 2.3651 - f1_m: 0.7914\n",
            "Epoch 4/10\n",
            "15763/15763 [==============================] - 19s 1ms/step - loss: 2.3582 - f1_m: 0.7912\n",
            "Epoch 5/10\n",
            "15763/15763 [==============================] - 18s 1ms/step - loss: 2.3536 - f1_m: 0.7923\n",
            "Epoch 6/10\n",
            "15763/15763 [==============================] - 18s 1ms/step - loss: 2.3512 - f1_m: 0.7920\n",
            "Epoch 7/10\n",
            "15763/15763 [==============================] - 18s 1ms/step - loss: 2.3560 - f1_m: 0.7929\n",
            "Epoch 8/10\n",
            "15763/15763 [==============================] - 18s 1ms/step - loss: 2.3521 - f1_m: 0.7922\n",
            "Epoch 9/10\n",
            "15763/15763 [==============================] - 18s 1ms/step - loss: 2.3516 - f1_m: 0.7918\n",
            "Epoch 10/10\n",
            "15763/15763 [==============================] - 18s 1ms/step - loss: 2.3525 - f1_m: 0.7930\n"
          ],
          "name": "stdout"
        },
        {
          "output_type": "execute_result",
          "data": {
            "text/plain": [
              "<tensorflow.python.keras.callbacks.History at 0x7feacd042198>"
            ]
          },
          "metadata": {
            "tags": []
          },
          "execution_count": 184
        }
      ]
    },
    {
      "cell_type": "code",
      "metadata": {
        "id": "UWjV-OwlHzpx"
      },
      "source": [
        "y_pred_NN=model.predict(X_test)\r\n",
        "y_pred_NN=np.asarray([1 if y_pred_NN[i,1]>0.5 else 0 for i in range (y_pred_NN.shape[0])])"
      ],
      "execution_count": 185,
      "outputs": []
    },
    {
      "cell_type": "code",
      "metadata": {
        "colab": {
          "base_uri": "https://localhost:8080/"
        },
        "id": "kU2Hwt2Zs_Zh",
        "outputId": "23f3d7ae-57ba-4e53-e8f1-8b3ab89bcd91"
      },
      "source": [
        "f1_score(y_test,y_pred_NN)"
      ],
      "execution_count": 186,
      "outputs": [
        {
          "output_type": "execute_result",
          "data": {
            "text/plain": [
              "0.8008948545861297"
            ]
          },
          "metadata": {
            "tags": []
          },
          "execution_count": 186
        }
      ]
    },
    {
      "cell_type": "code",
      "metadata": {
        "colab": {
          "base_uri": "https://localhost:8080/"
        },
        "id": "H4-uwAfqw5Iv",
        "outputId": "e6f35f1c-7165-4b39-90c5-05ad1f957ff7"
      },
      "source": [
        ""
      ],
      "execution_count": 73,
      "outputs": [
        {
          "output_type": "execute_result",
          "data": {
            "text/plain": [
              "(15763,)"
            ]
          },
          "metadata": {
            "tags": []
          },
          "execution_count": 73
        }
      ]
    },
    {
      "cell_type": "code",
      "metadata": {
        "id": "iF9CBGFOxlzk"
      },
      "source": [
        ""
      ],
      "execution_count": 131,
      "outputs": []
    },
    {
      "cell_type": "code",
      "metadata": {
        "id": "C5X0Jv5y5F8n"
      },
      "source": [
        ""
      ],
      "execution_count": null,
      "outputs": []
    }
  ]
}