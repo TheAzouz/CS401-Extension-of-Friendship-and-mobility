{
  "nbformat": 4,
  "nbformat_minor": 0,
  "metadata": {
    "colab": {
      "name": "selim_P4_group.ipynb",
      "provenance": [],
      "collapsed_sections": []
    },
    "kernelspec": {
      "name": "python3",
      "display_name": "Python 3"
    }
  },
  "cells": [
    {
      "cell_type": "code",
      "metadata": {
        "colab": {
          "base_uri": "https://localhost:8080/"
        },
        "id": "uoUlLe3nNu9f",
        "outputId": "1a0c1b04-6f9c-4d6f-d193-15bdb5400166"
      },
      "source": [
        "from google.colab import drive\n",
        "drive.mount ('/content/drive')"
      ],
      "execution_count": 1,
      "outputs": [
        {
          "output_type": "stream",
          "text": [
            "Mounted at /content/drive\n"
          ],
          "name": "stdout"
        }
      ]
    },
    {
      "cell_type": "code",
      "metadata": {
        "colab": {
          "base_uri": "https://localhost:8080/"
        },
        "id": "sxh_ptU0N365",
        "outputId": "67e56c27-1ae7-407f-fadd-fccb6ee12bac"
      },
      "source": [
        "cd \"drive/My Drive/Colab Notebooks/ADA_P4/data\""
      ],
      "execution_count": 2,
      "outputs": [
        {
          "output_type": "stream",
          "text": [
            "/content/drive/My Drive/Colab Notebooks/ADA_P4/data\n"
          ],
          "name": "stdout"
        }
      ]
    },
    {
      "cell_type": "code",
      "metadata": {
        "id": "6iGbakvmN-TQ"
      },
      "source": [
        "import pandas as pd\n",
        "import numpy as np\n",
        "import seaborn as sns\n",
        "import matplotlib.pyplot as plt\n"
      ],
      "execution_count": 3,
      "outputs": []
    },
    {
      "cell_type": "code",
      "metadata": {
        "id": "tPraOQnoN-WA"
      },
      "source": [
        "df=pd.read_csv('friends_gatherings.csv',parse_dates=['local time_x'])\n"
      ],
      "execution_count": 134,
      "outputs": []
    },
    {
      "cell_type": "code",
      "metadata": {
        "colab": {
          "base_uri": "https://localhost:8080/",
          "height": 195
        },
        "id": "S6yxlEJwN-YQ",
        "outputId": "f17ace18-c36e-4b53-bad9-b29fc28b8aa2"
      },
      "source": [
        "df.head()"
      ],
      "execution_count": 5,
      "outputs": [
        {
          "output_type": "execute_result",
          "data": {
            "text/html": [
              "<div>\n",
              "<style scoped>\n",
              "    .dataframe tbody tr th:only-of-type {\n",
              "        vertical-align: middle;\n",
              "    }\n",
              "\n",
              "    .dataframe tbody tr th {\n",
              "        vertical-align: top;\n",
              "    }\n",
              "\n",
              "    .dataframe thead th {\n",
              "        text-align: right;\n",
              "    }\n",
              "</style>\n",
              "<table border=\"1\" class=\"dataframe\">\n",
              "  <thead>\n",
              "    <tr style=\"text-align: right;\">\n",
              "      <th></th>\n",
              "      <th>Unnamed: 0</th>\n",
              "      <th>day_x</th>\n",
              "      <th>local time_x</th>\n",
              "      <th>place_x</th>\n",
              "      <th>country_x</th>\n",
              "      <th>dist home x</th>\n",
              "      <th>dist home y</th>\n",
              "    </tr>\n",
              "  </thead>\n",
              "  <tbody>\n",
              "    <tr>\n",
              "      <th>0</th>\n",
              "      <td>184</td>\n",
              "      <td>Sat</td>\n",
              "      <td>2012-05-05 19:24:41+00:00</td>\n",
              "      <td>Bar</td>\n",
              "      <td>US</td>\n",
              "      <td>161.0</td>\n",
              "      <td>6.0</td>\n",
              "    </tr>\n",
              "    <tr>\n",
              "      <th>1</th>\n",
              "      <td>458</td>\n",
              "      <td>Fri</td>\n",
              "      <td>2012-05-04 16:45:44+00:00</td>\n",
              "      <td>Airport</td>\n",
              "      <td>US</td>\n",
              "      <td>18.0</td>\n",
              "      <td>321.0</td>\n",
              "    </tr>\n",
              "    <tr>\n",
              "      <th>2</th>\n",
              "      <td>628</td>\n",
              "      <td>Wed</td>\n",
              "      <td>2013-06-18 20:06:35+00:00</td>\n",
              "      <td>Ice Cream Shop</td>\n",
              "      <td>US</td>\n",
              "      <td>159.0</td>\n",
              "      <td>2590.0</td>\n",
              "    </tr>\n",
              "    <tr>\n",
              "      <th>3</th>\n",
              "      <td>652</td>\n",
              "      <td>Thu</td>\n",
              "      <td>2012-06-06 23:20:26+00:00</td>\n",
              "      <td>Tech Startup</td>\n",
              "      <td>US</td>\n",
              "      <td>160.0</td>\n",
              "      <td>40.0</td>\n",
              "    </tr>\n",
              "    <tr>\n",
              "      <th>4</th>\n",
              "      <td>690</td>\n",
              "      <td>Fri</td>\n",
              "      <td>2012-06-08 17:35:57+00:00</td>\n",
              "      <td>Tech Startup</td>\n",
              "      <td>US</td>\n",
              "      <td>160.0</td>\n",
              "      <td>40.0</td>\n",
              "    </tr>\n",
              "  </tbody>\n",
              "</table>\n",
              "</div>"
            ],
            "text/plain": [
              "   Unnamed: 0 day_x  ... dist home x dist home y\n",
              "0         184   Sat  ...       161.0         6.0\n",
              "1         458   Fri  ...        18.0       321.0\n",
              "2         628   Wed  ...       159.0      2590.0\n",
              "3         652   Thu  ...       160.0        40.0\n",
              "4         690   Fri  ...       160.0        40.0\n",
              "\n",
              "[5 rows x 7 columns]"
            ]
          },
          "metadata": {
            "tags": []
          },
          "execution_count": 5
        }
      ]
    },
    {
      "cell_type": "code",
      "metadata": {
        "colab": {
          "base_uri": "https://localhost:8080/"
        },
        "id": "tRSSlqEmN-aI",
        "outputId": "6bfafc24-e967-4c4b-fc83-5998691314ed"
      },
      "source": [
        "df.dtypes"
      ],
      "execution_count": 6,
      "outputs": [
        {
          "output_type": "execute_result",
          "data": {
            "text/plain": [
              "Unnamed: 0                    int64\n",
              "day_x                        object\n",
              "local time_x    datetime64[ns, UTC]\n",
              "place_x                      object\n",
              "country_x                    object\n",
              "dist home x                 float64\n",
              "dist home y                 float64\n",
              "dtype: object"
            ]
          },
          "metadata": {
            "tags": []
          },
          "execution_count": 6
        }
      ]
    },
    {
      "cell_type": "code",
      "metadata": {
        "id": "-EGw3S0pN-cY"
      },
      "source": [
        "df['proba dist']=df['dist home x']\n",
        "df1=df.groupby('dist home x',as_index=False).count()[['dist home x','proba dist']]\n",
        "#df1=df['proba dist']/df['proba dist'].sum()\n",
        "df1['proba dist']=df1['proba dist']/df1['proba dist'].sum()\n",
        "#df['proba dist']=df['dist home x']/df['dist home x'].count()"
      ],
      "execution_count": 230,
      "outputs": []
    },
    {
      "cell_type": "code",
      "metadata": {
        "colab": {
          "base_uri": "https://localhost:8080/",
          "height": 195
        },
        "id": "o-MyB_2TN-f5",
        "outputId": "bd0e9313-8214-4d9b-c15b-d4b7bfe146c2"
      },
      "source": [
        "df1.head()"
      ],
      "execution_count": 231,
      "outputs": [
        {
          "output_type": "execute_result",
          "data": {
            "text/html": [
              "<div>\n",
              "<style scoped>\n",
              "    .dataframe tbody tr th:only-of-type {\n",
              "        vertical-align: middle;\n",
              "    }\n",
              "\n",
              "    .dataframe tbody tr th {\n",
              "        vertical-align: top;\n",
              "    }\n",
              "\n",
              "    .dataframe thead th {\n",
              "        text-align: right;\n",
              "    }\n",
              "</style>\n",
              "<table border=\"1\" class=\"dataframe\">\n",
              "  <thead>\n",
              "    <tr style=\"text-align: right;\">\n",
              "      <th></th>\n",
              "      <th>dist home x</th>\n",
              "      <th>proba dist</th>\n",
              "    </tr>\n",
              "  </thead>\n",
              "  <tbody>\n",
              "    <tr>\n",
              "      <th>0</th>\n",
              "      <td>0.0</td>\n",
              "      <td>0.026705</td>\n",
              "    </tr>\n",
              "    <tr>\n",
              "      <th>1</th>\n",
              "      <td>1.0</td>\n",
              "      <td>0.081007</td>\n",
              "    </tr>\n",
              "    <tr>\n",
              "      <th>2</th>\n",
              "      <td>2.0</td>\n",
              "      <td>0.075873</td>\n",
              "    </tr>\n",
              "    <tr>\n",
              "      <th>3</th>\n",
              "      <td>3.0</td>\n",
              "      <td>0.068818</td>\n",
              "    </tr>\n",
              "    <tr>\n",
              "      <th>4</th>\n",
              "      <td>4.0</td>\n",
              "      <td>0.060047</td>\n",
              "    </tr>\n",
              "  </tbody>\n",
              "</table>\n",
              "</div>"
            ],
            "text/plain": [
              "   dist home x  proba dist\n",
              "0          0.0    0.026705\n",
              "1          1.0    0.081007\n",
              "2          2.0    0.075873\n",
              "3          3.0    0.068818\n",
              "4          4.0    0.060047"
            ]
          },
          "metadata": {
            "tags": []
          },
          "execution_count": 231
        }
      ]
    },
    {
      "cell_type": "code",
      "metadata": {
        "id": "781o1S5i7_7i"
      },
      "source": [
        ""
      ],
      "execution_count": 231,
      "outputs": []
    },
    {
      "cell_type": "code",
      "metadata": {
        "colab": {
          "base_uri": "https://localhost:8080/",
          "height": 370
        },
        "id": "o7aVHm2OQ1Y8",
        "outputId": "30d24b46-eb71-47ab-f584-613881e05f14"
      },
      "source": [
        "plt.figure(figsize=(10,5))\n",
        "\n",
        "plt.loglog(df1['dist home x'],df1['proba dist'])\n",
        "plt.xlabel('distance from home')\n",
        "plt.ylabel('fraction of friends met')\n",
        "plt.title('fraction of friends met as a function of the distance from home')"
      ],
      "execution_count": 234,
      "outputs": [
        {
          "output_type": "execute_result",
          "data": {
            "text/plain": [
              "Text(0.5, 1.0, 'fraction of friends met as a function of the distance from home')"
            ]
          },
          "metadata": {
            "tags": []
          },
          "execution_count": 234
        },
        {
          "output_type": "display_data",
          "data": {
            "image/png": "[encoded data removed]",
            "text/plain": [
              "<Figure size 720x360 with 1 Axes>"
            ]
          },
          "metadata": {
            "tags": [],
            "needs_background": "light"
          }
        }
      ]
    },
    {
      "cell_type": "code",
      "metadata": {
        "colab": {
          "base_uri": "https://localhost:8080/"
        },
        "id": "XIxXrg_ZT6MJ",
        "outputId": "62b005f3-950a-4ab7-f61c-dec1ffb99562"
      },
      "source": [
        "number_restaurant_meetings=df[df['place_x'].str.contains('restaurant',case=False)].shape[0]\n",
        "number_bar_meetings=df[df['place_x'].str.contains('bar',case=False)].shape[0]"
      ],
      "execution_count": 53,
      "outputs": [
        {
          "output_type": "stream",
          "text": [
            "/usr/local/lib/python3.6/dist-packages/pandas/core/indexing.py:1763: SettingWithCopyWarning: \n",
            "A value is trying to be set on a copy of a slice from a DataFrame.\n",
            "Try using .loc[row_indexer,col_indexer] = value instead\n",
            "\n",
            "See the caveats in the documentation: https://pandas.pydata.org/pandas-docs/stable/user_guide/indexing.html#returning-a-view-versus-a-copy\n",
            "  isetter(loc, value)\n"
          ],
          "name": "stderr"
        }
      ]
    },
    {
      "cell_type": "code",
      "metadata": {
        "id": "V70wDg4WUSxJ"
      },
      "source": [
        ""
      ],
      "execution_count": 179,
      "outputs": []
    },
    {
      "cell_type": "code",
      "metadata": {
        "colab": {
          "base_uri": "https://localhost:8080/",
          "height": 195
        },
        "id": "xYEoTDrVUj5J",
        "outputId": "e3f4509d-ee89-4f6c-8fc7-bae1bee45ce9"
      },
      "source": [
        "df.shape\n",
        "df1=df.copy()\n",
        "df1.head()"
      ],
      "execution_count": 238,
      "outputs": [
        {
          "output_type": "execute_result",
          "data": {
            "text/html": [
              "<div>\n",
              "<style scoped>\n",
              "    .dataframe tbody tr th:only-of-type {\n",
              "        vertical-align: middle;\n",
              "    }\n",
              "\n",
              "    .dataframe tbody tr th {\n",
              "        vertical-align: top;\n",
              "    }\n",
              "\n",
              "    .dataframe thead th {\n",
              "        text-align: right;\n",
              "    }\n",
              "</style>\n",
              "<table border=\"1\" class=\"dataframe\">\n",
              "  <thead>\n",
              "    <tr style=\"text-align: right;\">\n",
              "      <th></th>\n",
              "      <th>Unnamed: 0</th>\n",
              "      <th>day_x</th>\n",
              "      <th>local time_x</th>\n",
              "      <th>place_x</th>\n",
              "      <th>country_x</th>\n",
              "      <th>dist home x</th>\n",
              "      <th>dist home y</th>\n",
              "      <th>proba dist</th>\n",
              "    </tr>\n",
              "  </thead>\n",
              "  <tbody>\n",
              "    <tr>\n",
              "      <th>0</th>\n",
              "      <td>184</td>\n",
              "      <td>Sat</td>\n",
              "      <td>2012-05-05 19:24:41+00:00</td>\n",
              "      <td>Bar</td>\n",
              "      <td>US</td>\n",
              "      <td>161.0</td>\n",
              "      <td>6.0</td>\n",
              "      <td>161.0</td>\n",
              "    </tr>\n",
              "    <tr>\n",
              "      <th>1</th>\n",
              "      <td>458</td>\n",
              "      <td>Fri</td>\n",
              "      <td>2012-05-04 16:45:44+00:00</td>\n",
              "      <td>Airport</td>\n",
              "      <td>US</td>\n",
              "      <td>18.0</td>\n",
              "      <td>321.0</td>\n",
              "      <td>18.0</td>\n",
              "    </tr>\n",
              "    <tr>\n",
              "      <th>2</th>\n",
              "      <td>628</td>\n",
              "      <td>Wed</td>\n",
              "      <td>2013-06-18 20:06:35+00:00</td>\n",
              "      <td>Ice Cream Shop</td>\n",
              "      <td>US</td>\n",
              "      <td>159.0</td>\n",
              "      <td>2590.0</td>\n",
              "      <td>159.0</td>\n",
              "    </tr>\n",
              "    <tr>\n",
              "      <th>3</th>\n",
              "      <td>652</td>\n",
              "      <td>Thu</td>\n",
              "      <td>2012-06-06 23:20:26+00:00</td>\n",
              "      <td>Tech Startup</td>\n",
              "      <td>US</td>\n",
              "      <td>160.0</td>\n",
              "      <td>40.0</td>\n",
              "      <td>160.0</td>\n",
              "    </tr>\n",
              "    <tr>\n",
              "      <th>4</th>\n",
              "      <td>690</td>\n",
              "      <td>Fri</td>\n",
              "      <td>2012-06-08 17:35:57+00:00</td>\n",
              "      <td>Tech Startup</td>\n",
              "      <td>US</td>\n",
              "      <td>160.0</td>\n",
              "      <td>40.0</td>\n",
              "      <td>160.0</td>\n",
              "    </tr>\n",
              "  </tbody>\n",
              "</table>\n",
              "</div>"
            ],
            "text/plain": [
              "   Unnamed: 0 day_x  ... dist home y proba dist\n",
              "0         184   Sat  ...         6.0      161.0\n",
              "1         458   Fri  ...       321.0       18.0\n",
              "2         628   Wed  ...      2590.0      159.0\n",
              "3         652   Thu  ...        40.0      160.0\n",
              "4         690   Fri  ...        40.0      160.0\n",
              "\n",
              "[5 rows x 8 columns]"
            ]
          },
          "metadata": {
            "tags": []
          },
          "execution_count": 238
        }
      ]
    },
    {
      "cell_type": "code",
      "metadata": {
        "colab": {
          "base_uri": "https://localhost:8080/"
        },
        "id": "fNFm9sRCi4lm",
        "outputId": "ee6abb65-4947-42cb-f3ed-f31e2ecc3217"
      },
      "source": [
        "df1[df1['place_x'].str.contains('college|univeristy',case=False)]['place_x']='college'"
      ],
      "execution_count": 131,
      "outputs": [
        {
          "output_type": "stream",
          "text": [
            "/usr/local/lib/python3.6/dist-packages/ipykernel_launcher.py:1: SettingWithCopyWarning: \n",
            "A value is trying to be set on a copy of a slice from a DataFrame.\n",
            "Try using .loc[row_indexer,col_indexer] = value instead\n",
            "\n",
            "See the caveats in the documentation: https://pandas.pydata.org/pandas-docs/stable/user_guide/indexing.html#returning-a-view-versus-a-copy\n",
            "  \"\"\"Entry point for launching an IPython kernel.\n"
          ],
          "name": "stderr"
        }
      ]
    },
    {
      "cell_type": "code",
      "metadata": {
        "id": "c9hA26S6bqE8"
      },
      "source": [
        ""
      ],
      "execution_count": 179,
      "outputs": []
    },
    {
      "cell_type": "code",
      "metadata": {
        "colab": {
          "base_uri": "https://localhost:8080/",
          "height": 354
        },
        "id": "IUduOFMniVCF",
        "outputId": "876f8722-2cac-4975-98cc-63e8cd186a5d"
      },
      "source": [
        "df1=df.copy()\n",
        "\n",
        "df1.loc[df1['place_x'].str.contains('restaurant|Burger|pizza|Diner|food|Steakhouse|BBQ|Dessert|Ramen|Ice Cream|Fried|Sandwich|breakfast|snack|taco|hot|soup|wings',case=False),'place_x']='Eat'\n",
        "df1.loc[df1['place_x'].str.contains('college|University|school|student',case=False),'place_x']='Study'\n",
        "df1.loc[df1['place_x'].str.contains('coffee|Bar|Nightclub|pub|Lounge|Beer|tea|Nightlife',case=False),'place_x']='Drink'\n",
        "df1.loc[df1['place_x'].str.contains('multiplex|Movie|Theater|concert|Music|historic|arts|Museum|library|Monument|temple|art',case=False),'place_x']='Culture'\n",
        "df1.loc[df1['place_x'].str.contains('Home|Residential|Building',case=False),'place_x']='Home'\n",
        "df1.loc[df1['place_x'].str.contains('station|airport|subway|travel|boat|bus',case=False),'place_x']='Move'\n",
        "df1.loc[df1['place_x'].str.contains('store|mall|plaza|shop|boutique|market',case=False),'place_x']='Buy stuff'\n",
        "df1.loc[df1['place_x'].str.contains('work|office|Startup|professional',case=False),'place_x']='Work'\n",
        "df1.loc[df1['place_x'].str.contains('soccer stadium|Entertainment|Outdoor|beach|park|event|Arcade|resort|hotel|spa|Casino',case=False),'place_x']='Entertainement'\n",
        "df1.loc[df1['place_x'].str.contains('soccer field|sport|gym|stadium|surf|pool|golf|baseball',case=False),'place_x']='Sport'\n",
        "#df1.loc[df1['place_x'].str.contains('Neighborhood|road|bakery|church|mosque|hospital|bank|bridge|rest',case=False),'place_x']='Others'\n",
        "\n",
        "df1.loc[df1['day_x'].str.contains('mon|tue|wed|thu|fri',case=False),'day_x']='Work day'\n",
        "df1.loc[df1['day_x'].str.contains('sat|sun',case=False),'day_x']='Week end'\n",
        "\n",
        "\n",
        "df2=df1.loc[df1['place_x'].str.contains('sport|Entertainement|Work|Buy stuff|Move|Home|Culture|Drink|Study|Eat',case=False),:]\n",
        "df3=df2.groupby(['place_x','day_x'],as_index=False).agg({'country_x':'size'}).sort_values(by='country_x',ascending=False)[['place_x','day_x','country_x']]\n",
        "#df1.groupby('place_x').count().sort_values(by='day_x',ascending=False).head(50)"
      ],
      "execution_count": 317,
      "outputs": [
        {
          "output_type": "error",
          "ename": "KeyError",
          "evalue": "ignored",
          "traceback": [
            "\u001b[0;31m---------------------------------------------------------------------------\u001b[0m",
            "\u001b[0;31mKeyError\u001b[0m                                  Traceback (most recent call last)",
            "\u001b[0;32m<ipython-input-317-d4b6914701f0>\u001b[0m in \u001b[0;36m<module>\u001b[0;34m()\u001b[0m\n\u001b[1;32m     18\u001b[0m \u001b[0;34m\u001b[0m\u001b[0m\n\u001b[1;32m     19\u001b[0m \u001b[0mdf2\u001b[0m\u001b[0;34m=\u001b[0m\u001b[0mdf1\u001b[0m\u001b[0;34m.\u001b[0m\u001b[0mloc\u001b[0m\u001b[0;34m[\u001b[0m\u001b[0mdf1\u001b[0m\u001b[0;34m[\u001b[0m\u001b[0;34m'place_x'\u001b[0m\u001b[0;34m]\u001b[0m\u001b[0;34m.\u001b[0m\u001b[0mstr\u001b[0m\u001b[0;34m.\u001b[0m\u001b[0mcontains\u001b[0m\u001b[0;34m(\u001b[0m\u001b[0;34m'sport|Entertainement|Work|Buy stuff|Move|Home|Culture|Drink|Study|Eat'\u001b[0m\u001b[0;34m,\u001b[0m\u001b[0mcase\u001b[0m\u001b[0;34m=\u001b[0m\u001b[0;32mFalse\u001b[0m\u001b[0;34m)\u001b[0m\u001b[0;34m,\u001b[0m\u001b[0;34m:\u001b[0m\u001b[0;34m]\u001b[0m\u001b[0;34m\u001b[0m\u001b[0;34m\u001b[0m\u001b[0m\n\u001b[0;32m---> 20\u001b[0;31m \u001b[0mdf3\u001b[0m\u001b[0;34m=\u001b[0m\u001b[0mdf2\u001b[0m\u001b[0;34m.\u001b[0m\u001b[0mgroupby\u001b[0m\u001b[0;34m(\u001b[0m\u001b[0;34m[\u001b[0m\u001b[0;34m'place_x'\u001b[0m\u001b[0;34m,\u001b[0m\u001b[0;34m'day_x'\u001b[0m\u001b[0;34m]\u001b[0m\u001b[0;34m,\u001b[0m\u001b[0mas_index\u001b[0m\u001b[0;34m=\u001b[0m\u001b[0;32mFalse\u001b[0m\u001b[0;34m)\u001b[0m\u001b[0;34m.\u001b[0m\u001b[0magg\u001b[0m\u001b[0;34m(\u001b[0m\u001b[0;34m{\u001b[0m\u001b[0;34m'country_x'\u001b[0m\u001b[0;34m:\u001b[0m\u001b[0;34m'size'\u001b[0m\u001b[0;34m}\u001b[0m\u001b[0;34m)\u001b[0m\u001b[0;34m.\u001b[0m\u001b[0msort_values\u001b[0m\u001b[0;34m(\u001b[0m\u001b[0mby\u001b[0m\u001b[0;34m=\u001b[0m\u001b[0;34m'country_x'\u001b[0m\u001b[0;34m,\u001b[0m\u001b[0mascending\u001b[0m\u001b[0;34m=\u001b[0m\u001b[0;32mFalse\u001b[0m\u001b[0;34m)\u001b[0m\u001b[0;34m[\u001b[0m\u001b[0;34m[\u001b[0m\u001b[0;34m'place_x'\u001b[0m\u001b[0;34m,\u001b[0m\u001b[0;34m'day_x'\u001b[0m\u001b[0;34m,\u001b[0m\u001b[0;34m'country_x'\u001b[0m\u001b[0;34m,\u001b[0m\u001b[0;34m'local time_x'\u001b[0m\u001b[0;34m]\u001b[0m\u001b[0;34m]\u001b[0m\u001b[0;34m\u001b[0m\u001b[0;34m\u001b[0m\u001b[0m\n\u001b[0m\u001b[1;32m     21\u001b[0m \u001b[0;31m#df1.groupby('place_x').count().sort_values(by='day_x',ascending=False).head(50)\u001b[0m\u001b[0;34m\u001b[0m\u001b[0;34m\u001b[0m\u001b[0;34m\u001b[0m\u001b[0m\n",
            "\u001b[0;32m/usr/local/lib/python3.6/dist-packages/pandas/core/frame.py\u001b[0m in \u001b[0;36m__getitem__\u001b[0;34m(self, key)\u001b[0m\n\u001b[1;32m   2910\u001b[0m             \u001b[0;32mif\u001b[0m \u001b[0mis_iterator\u001b[0m\u001b[0;34m(\u001b[0m\u001b[0mkey\u001b[0m\u001b[0;34m)\u001b[0m\u001b[0;34m:\u001b[0m\u001b[0;34m\u001b[0m\u001b[0;34m\u001b[0m\u001b[0m\n\u001b[1;32m   2911\u001b[0m                 \u001b[0mkey\u001b[0m \u001b[0;34m=\u001b[0m \u001b[0mlist\u001b[0m\u001b[0;34m(\u001b[0m\u001b[0mkey\u001b[0m\u001b[0;34m)\u001b[0m\u001b[0;34m\u001b[0m\u001b[0;34m\u001b[0m\u001b[0m\n\u001b[0;32m-> 2912\u001b[0;31m             \u001b[0mindexer\u001b[0m \u001b[0;34m=\u001b[0m \u001b[0mself\u001b[0m\u001b[0;34m.\u001b[0m\u001b[0mloc\u001b[0m\u001b[0;34m.\u001b[0m\u001b[0m_get_listlike_indexer\u001b[0m\u001b[0;34m(\u001b[0m\u001b[0mkey\u001b[0m\u001b[0;34m,\u001b[0m \u001b[0maxis\u001b[0m\u001b[0;34m=\u001b[0m\u001b[0;36m1\u001b[0m\u001b[0;34m,\u001b[0m \u001b[0mraise_missing\u001b[0m\u001b[0;34m=\u001b[0m\u001b[0;32mTrue\u001b[0m\u001b[0;34m)\u001b[0m\u001b[0;34m[\u001b[0m\u001b[0;36m1\u001b[0m\u001b[0;34m]\u001b[0m\u001b[0;34m\u001b[0m\u001b[0;34m\u001b[0m\u001b[0m\n\u001b[0m\u001b[1;32m   2913\u001b[0m \u001b[0;34m\u001b[0m\u001b[0m\n\u001b[1;32m   2914\u001b[0m         \u001b[0;31m# take() does not accept boolean indexers\u001b[0m\u001b[0;34m\u001b[0m\u001b[0;34m\u001b[0m\u001b[0;34m\u001b[0m\u001b[0m\n",
            "\u001b[0;32m/usr/local/lib/python3.6/dist-packages/pandas/core/indexing.py\u001b[0m in \u001b[0;36m_get_listlike_indexer\u001b[0;34m(self, key, axis, raise_missing)\u001b[0m\n\u001b[1;32m   1252\u001b[0m             \u001b[0mkeyarr\u001b[0m\u001b[0;34m,\u001b[0m \u001b[0mindexer\u001b[0m\u001b[0;34m,\u001b[0m \u001b[0mnew_indexer\u001b[0m \u001b[0;34m=\u001b[0m \u001b[0max\u001b[0m\u001b[0;34m.\u001b[0m\u001b[0m_reindex_non_unique\u001b[0m\u001b[0;34m(\u001b[0m\u001b[0mkeyarr\u001b[0m\u001b[0;34m)\u001b[0m\u001b[0;34m\u001b[0m\u001b[0;34m\u001b[0m\u001b[0m\n\u001b[1;32m   1253\u001b[0m \u001b[0;34m\u001b[0m\u001b[0m\n\u001b[0;32m-> 1254\u001b[0;31m         \u001b[0mself\u001b[0m\u001b[0;34m.\u001b[0m\u001b[0m_validate_read_indexer\u001b[0m\u001b[0;34m(\u001b[0m\u001b[0mkeyarr\u001b[0m\u001b[0;34m,\u001b[0m \u001b[0mindexer\u001b[0m\u001b[0;34m,\u001b[0m \u001b[0maxis\u001b[0m\u001b[0;34m,\u001b[0m \u001b[0mraise_missing\u001b[0m\u001b[0;34m=\u001b[0m\u001b[0mraise_missing\u001b[0m\u001b[0;34m)\u001b[0m\u001b[0;34m\u001b[0m\u001b[0;34m\u001b[0m\u001b[0m\n\u001b[0m\u001b[1;32m   1255\u001b[0m         \u001b[0;32mreturn\u001b[0m \u001b[0mkeyarr\u001b[0m\u001b[0;34m,\u001b[0m \u001b[0mindexer\u001b[0m\u001b[0;34m\u001b[0m\u001b[0;34m\u001b[0m\u001b[0m\n\u001b[1;32m   1256\u001b[0m \u001b[0;34m\u001b[0m\u001b[0m\n",
            "\u001b[0;32m/usr/local/lib/python3.6/dist-packages/pandas/core/indexing.py\u001b[0m in \u001b[0;36m_validate_read_indexer\u001b[0;34m(self, key, indexer, axis, raise_missing)\u001b[0m\n\u001b[1;32m   1302\u001b[0m             \u001b[0;32mif\u001b[0m \u001b[0mraise_missing\u001b[0m\u001b[0;34m:\u001b[0m\u001b[0;34m\u001b[0m\u001b[0;34m\u001b[0m\u001b[0m\n\u001b[1;32m   1303\u001b[0m                 \u001b[0mnot_found\u001b[0m \u001b[0;34m=\u001b[0m \u001b[0mlist\u001b[0m\u001b[0;34m(\u001b[0m\u001b[0mset\u001b[0m\u001b[0;34m(\u001b[0m\u001b[0mkey\u001b[0m\u001b[0;34m)\u001b[0m \u001b[0;34m-\u001b[0m \u001b[0mset\u001b[0m\u001b[0;34m(\u001b[0m\u001b[0max\u001b[0m\u001b[0;34m)\u001b[0m\u001b[0;34m)\u001b[0m\u001b[0;34m\u001b[0m\u001b[0;34m\u001b[0m\u001b[0m\n\u001b[0;32m-> 1304\u001b[0;31m                 \u001b[0;32mraise\u001b[0m \u001b[0mKeyError\u001b[0m\u001b[0;34m(\u001b[0m\u001b[0;34mf\"{not_found} not in index\"\u001b[0m\u001b[0;34m)\u001b[0m\u001b[0;34m\u001b[0m\u001b[0;34m\u001b[0m\u001b[0m\n\u001b[0m\u001b[1;32m   1305\u001b[0m \u001b[0;34m\u001b[0m\u001b[0m\n\u001b[1;32m   1306\u001b[0m             \u001b[0;31m# we skip the warning on Categorical\u001b[0m\u001b[0;34m\u001b[0m\u001b[0;34m\u001b[0m\u001b[0;34m\u001b[0m\u001b[0m\n",
            "\u001b[0;31mKeyError\u001b[0m: \"['local time_x'] not in index\""
          ]
        }
      ]
    },
    {
      "cell_type": "code",
      "metadata": {
        "colab": {
          "base_uri": "https://localhost:8080/",
          "height": 195
        },
        "id": "0PZnsdsHBSHh",
        "outputId": "94c71448-8abb-4234-ce17-158a6b55db49"
      },
      "source": [
        "df3.head()"
      ],
      "execution_count": 316,
      "outputs": [
        {
          "output_type": "execute_result",
          "data": {
            "text/html": [
              "<div>\n",
              "<style scoped>\n",
              "    .dataframe tbody tr th:only-of-type {\n",
              "        vertical-align: middle;\n",
              "    }\n",
              "\n",
              "    .dataframe tbody tr th {\n",
              "        vertical-align: top;\n",
              "    }\n",
              "\n",
              "    .dataframe thead th {\n",
              "        text-align: right;\n",
              "    }\n",
              "</style>\n",
              "<table border=\"1\" class=\"dataframe\">\n",
              "  <thead>\n",
              "    <tr style=\"text-align: right;\">\n",
              "      <th></th>\n",
              "      <th>place_x</th>\n",
              "      <th>day_x</th>\n",
              "      <th>country_x</th>\n",
              "    </tr>\n",
              "  </thead>\n",
              "  <tbody>\n",
              "    <tr>\n",
              "      <th>17</th>\n",
              "      <td>Study</td>\n",
              "      <td>Work day</td>\n",
              "      <td>41063</td>\n",
              "    </tr>\n",
              "    <tr>\n",
              "      <th>7</th>\n",
              "      <td>Eat</td>\n",
              "      <td>Work day</td>\n",
              "      <td>17308</td>\n",
              "    </tr>\n",
              "    <tr>\n",
              "      <th>1</th>\n",
              "      <td>Buy stuff</td>\n",
              "      <td>Work day</td>\n",
              "      <td>10964</td>\n",
              "    </tr>\n",
              "    <tr>\n",
              "      <th>6</th>\n",
              "      <td>Eat</td>\n",
              "      <td>Week end</td>\n",
              "      <td>10264</td>\n",
              "    </tr>\n",
              "    <tr>\n",
              "      <th>4</th>\n",
              "      <td>Drink</td>\n",
              "      <td>Week end</td>\n",
              "      <td>8004</td>\n",
              "    </tr>\n",
              "  </tbody>\n",
              "</table>\n",
              "</div>"
            ],
            "text/plain": [
              "      place_x     day_x  country_x\n",
              "17      Study  Work day      41063\n",
              "7         Eat  Work day      17308\n",
              "1   Buy stuff  Work day      10964\n",
              "6         Eat  Week end      10264\n",
              "4       Drink  Week end       8004"
            ]
          },
          "metadata": {
            "tags": []
          },
          "execution_count": 316
        }
      ]
    },
    {
      "cell_type": "code",
      "metadata": {
        "colab": {
          "base_uri": "https://localhost:8080/",
          "height": 530
        },
        "id": "l0Wy3Rpo1j1N",
        "outputId": "ce178583-ac48-4491-ca5f-1cfbad2a983b"
      },
      "source": [
        "plt.figure(figsize=(15,8))\n",
        "sns.barplot(x=df3['country_x']/df3['country_x'].sum(),y=df3['place_x'],orient='h',hue=df3['day_x'])\n",
        "plt.xlabel('probability')\n",
        "plt.ylabel('type of place')\n",
        "plt.title('meeting patterns between friends')"
      ],
      "execution_count": 251,
      "outputs": [
        {
          "output_type": "execute_result",
          "data": {
            "text/plain": [
              "Text(0.5, 1.0, 'meeting patterns between friends')"
            ]
          },
          "metadata": {
            "tags": []
          },
          "execution_count": 251
        },
        {
          "output_type": "display_data",
          "data": {
            "image/png": "[encoded data removed]",
            "text/plain": [
              "<Figure size 1080x576 with 1 Axes>"
            ]
          },
          "metadata": {
            "tags": [],
            "needs_background": "light"
          }
        }
      ]
    },
    {
      "cell_type": "code",
      "metadata": {
        "id": "H0VqQWBfK5oN"
      },
      "source": [
        "def tbd2 (x):\n",
        "    return sum(x)/max(x)\n",
        "###### JUSTE DIFF OU DIVISER PAR TOT?????????????????????????????????"
      ],
      "execution_count": 308,
      "outputs": []
    },
    {
      "cell_type": "code",
      "metadata": {
        "id": "4aSFPvTVOaQy"
      },
      "source": [
        ""
      ],
      "execution_count": 308,
      "outputs": []
    },
    {
      "cell_type": "code",
      "metadata": {
        "colab": {
          "base_uri": "https://localhost:8080/",
          "height": 195
        },
        "id": "2lsTMcmhmXOj",
        "outputId": "2f61a176-ee69-49be-ce7d-842862573de0"
      },
      "source": [
        "df4=df3.copy()\n",
        "#normalize to have proba/day\n",
        "df4.loc[df4['day_x'].str.contains('Week|end',case=False),'country_x']=-df4.loc[df4['day_x'].str.contains('Week|end',case=False),'country_x']/2\n",
        "df4.loc[df4['day_x'].str.contains('Work|day',case=False),'country_x']=df4.loc[df4['day_x'].str.contains('Work|day',case=False),'country_x']/5\n",
        "df4=df4.groupby('place_x',as_index=False).agg({'country_x':tbd2},axis='columns').sort_values(by='country_x',ascending=False)\n"
      ],
      "execution_count": 309,
      "outputs": [
        {
          "output_type": "execute_result",
          "data": {
            "text/html": [
              "<div>\n",
              "<style scoped>\n",
              "    .dataframe tbody tr th:only-of-type {\n",
              "        vertical-align: middle;\n",
              "    }\n",
              "\n",
              "    .dataframe tbody tr th {\n",
              "        vertical-align: top;\n",
              "    }\n",
              "\n",
              "    .dataframe thead th {\n",
              "        text-align: right;\n",
              "    }\n",
              "</style>\n",
              "<table border=\"1\" class=\"dataframe\">\n",
              "  <thead>\n",
              "    <tr style=\"text-align: right;\">\n",
              "      <th></th>\n",
              "      <th>place_x</th>\n",
              "      <th>country_x</th>\n",
              "    </tr>\n",
              "  </thead>\n",
              "  <tbody>\n",
              "    <tr>\n",
              "      <th>9</th>\n",
              "      <td>Work</td>\n",
              "      <td>0.822240</td>\n",
              "    </tr>\n",
              "    <tr>\n",
              "      <th>8</th>\n",
              "      <td>Study</td>\n",
              "      <td>0.738512</td>\n",
              "    </tr>\n",
              "    <tr>\n",
              "      <th>6</th>\n",
              "      <td>Move</td>\n",
              "      <td>-0.363968</td>\n",
              "    </tr>\n",
              "    <tr>\n",
              "      <th>7</th>\n",
              "      <td>Sport</td>\n",
              "      <td>-0.429419</td>\n",
              "    </tr>\n",
              "    <tr>\n",
              "      <th>5</th>\n",
              "      <td>Home</td>\n",
              "      <td>-0.437805</td>\n",
              "    </tr>\n",
              "  </tbody>\n",
              "</table>\n",
              "</div>"
            ],
            "text/plain": [
              "  place_x  country_x\n",
              "9    Work   0.822240\n",
              "8   Study   0.738512\n",
              "6    Move  -0.363968\n",
              "7   Sport  -0.429419\n",
              "5    Home  -0.437805"
            ]
          },
          "metadata": {
            "tags": []
          },
          "execution_count": 309
        }
      ]
    },
    {
      "cell_type": "code",
      "metadata": {
        "id": "5yO_gnx_OLHf"
      },
      "source": [
        ""
      ],
      "execution_count": 309,
      "outputs": []
    },
    {
      "cell_type": "code",
      "metadata": {
        "colab": {
          "base_uri": "https://localhost:8080/",
          "height": 421
        },
        "id": "TWQABuhpL1VT",
        "outputId": "66d04bdc-3022-4f95-ba02-47b1bf922938"
      },
      "source": [
        "plt.figure(figsize=(15,6))\n",
        "sns.barplot(x=df4['country_x'],y=df4['place_x'],orient='h', palette='viridis_r')\n",
        "plt.xlabel('ratio probability per day')\n",
        "plt.ylabel('type of place')\n",
        "plt.title('meeting patterns between friends day week vs week end')"
      ],
      "execution_count": 312,
      "outputs": [
        {
          "output_type": "execute_result",
          "data": {
            "text/plain": [
              "Text(0.5, 1.0, 'meeting patterns between friends day week vs week end')"
            ]
          },
          "metadata": {
            "tags": []
          },
          "execution_count": 312
        },
        {
          "output_type": "display_data",
          "data": {
            "image/png": "[encoded data removed]",
            "text/plain": [
              "<Figure size 1080x432 with 1 Axes>"
            ]
          },
          "metadata": {
            "tags": [],
            "needs_background": "light"
          }
        }
      ]
    },
    {
      "cell_type": "code",
      "metadata": {
        "colab": {
          "base_uri": "https://localhost:8080/"
        },
        "id": "Efdrea8EcHyk",
        "outputId": "458bd20b-2f59-465c-b34e-60384860cccb"
      },
      "source": [
        "df2.loc[:,'evening']=df2['local time_x'].dt.hour>18"
      ],
      "execution_count": 323,
      "outputs": [
        {
          "output_type": "stream",
          "text": [
            "/usr/local/lib/python3.6/dist-packages/pandas/core/indexing.py:1743: SettingWithCopyWarning: \n",
            "A value is trying to be set on a copy of a slice from a DataFrame.\n",
            "Try using .loc[row_indexer,col_indexer] = value instead\n",
            "\n",
            "See the caveats in the documentation: https://pandas.pydata.org/pandas-docs/stable/user_guide/indexing.html#returning-a-view-versus-a-copy\n",
            "  isetter(ilocs[0], value)\n"
          ],
          "name": "stderr"
        }
      ]
    },
    {
      "cell_type": "code",
      "metadata": {
        "colab": {
          "base_uri": "https://localhost:8080/",
          "height": 195
        },
        "id": "zllBRayaYNa1",
        "outputId": "59fa81af-8514-4475-aa6e-a4d107d73af6"
      },
      "source": [
        "df2.head()"
      ],
      "execution_count": 324,
      "outputs": [
        {
          "output_type": "execute_result",
          "data": {
            "text/html": [
              "<div>\n",
              "<style scoped>\n",
              "    .dataframe tbody tr th:only-of-type {\n",
              "        vertical-align: middle;\n",
              "    }\n",
              "\n",
              "    .dataframe tbody tr th {\n",
              "        vertical-align: top;\n",
              "    }\n",
              "\n",
              "    .dataframe thead th {\n",
              "        text-align: right;\n",
              "    }\n",
              "</style>\n",
              "<table border=\"1\" class=\"dataframe\">\n",
              "  <thead>\n",
              "    <tr style=\"text-align: right;\">\n",
              "      <th></th>\n",
              "      <th>Unnamed: 0</th>\n",
              "      <th>day_x</th>\n",
              "      <th>local time_x</th>\n",
              "      <th>place_x</th>\n",
              "      <th>country_x</th>\n",
              "      <th>dist home x</th>\n",
              "      <th>dist home y</th>\n",
              "      <th>proba dist</th>\n",
              "      <th>evening</th>\n",
              "    </tr>\n",
              "  </thead>\n",
              "  <tbody>\n",
              "    <tr>\n",
              "      <th>0</th>\n",
              "      <td>184</td>\n",
              "      <td>Week end</td>\n",
              "      <td>2012-05-05 19:24:41+00:00</td>\n",
              "      <td>Drink</td>\n",
              "      <td>US</td>\n",
              "      <td>161.0</td>\n",
              "      <td>6.0</td>\n",
              "      <td>161.0</td>\n",
              "      <td>True</td>\n",
              "    </tr>\n",
              "    <tr>\n",
              "      <th>1</th>\n",
              "      <td>458</td>\n",
              "      <td>Work day</td>\n",
              "      <td>2012-05-04 16:45:44+00:00</td>\n",
              "      <td>Move</td>\n",
              "      <td>US</td>\n",
              "      <td>18.0</td>\n",
              "      <td>321.0</td>\n",
              "      <td>18.0</td>\n",
              "      <td>False</td>\n",
              "    </tr>\n",
              "    <tr>\n",
              "      <th>2</th>\n",
              "      <td>628</td>\n",
              "      <td>Work day</td>\n",
              "      <td>2013-06-18 20:06:35+00:00</td>\n",
              "      <td>Eat</td>\n",
              "      <td>US</td>\n",
              "      <td>159.0</td>\n",
              "      <td>2590.0</td>\n",
              "      <td>159.0</td>\n",
              "      <td>True</td>\n",
              "    </tr>\n",
              "    <tr>\n",
              "      <th>3</th>\n",
              "      <td>652</td>\n",
              "      <td>Work day</td>\n",
              "      <td>2012-06-06 23:20:26+00:00</td>\n",
              "      <td>Culture</td>\n",
              "      <td>US</td>\n",
              "      <td>160.0</td>\n",
              "      <td>40.0</td>\n",
              "      <td>160.0</td>\n",
              "      <td>True</td>\n",
              "    </tr>\n",
              "    <tr>\n",
              "      <th>4</th>\n",
              "      <td>690</td>\n",
              "      <td>Work day</td>\n",
              "      <td>2012-06-08 17:35:57+00:00</td>\n",
              "      <td>Culture</td>\n",
              "      <td>US</td>\n",
              "      <td>160.0</td>\n",
              "      <td>40.0</td>\n",
              "      <td>160.0</td>\n",
              "      <td>False</td>\n",
              "    </tr>\n",
              "  </tbody>\n",
              "</table>\n",
              "</div>"
            ],
            "text/plain": [
              "   Unnamed: 0     day_x  ... proba dist evening\n",
              "0         184  Week end  ...      161.0    True\n",
              "1         458  Work day  ...       18.0   False\n",
              "2         628  Work day  ...      159.0    True\n",
              "3         652  Work day  ...      160.0    True\n",
              "4         690  Work day  ...      160.0   False\n",
              "\n",
              "[5 rows x 9 columns]"
            ]
          },
          "metadata": {
            "tags": []
          },
          "execution_count": 324
        }
      ]
    },
    {
      "cell_type": "code",
      "metadata": {
        "id": "R_hwEGdncJsj"
      },
      "source": [
        "df5=df2.groupby('place_x',as_index=False).agg({'evening':'sum','country_x':'size'})"
      ],
      "execution_count": 325,
      "outputs": []
    },
    {
      "cell_type": "code",
      "metadata": {
        "id": "iYHO-Qvih9pM"
      },
      "source": [
        "df5['ratio evening']=df5['evening']/df5['country_x']\n",
        "df5=df5.sort_values(by='ratio evening',ascending=False)"
      ],
      "execution_count": 331,
      "outputs": []
    },
    {
      "cell_type": "code",
      "metadata": {
        "colab": {
          "base_uri": "https://localhost:8080/",
          "height": 421
        },
        "id": "TNnngmDiLjqk",
        "outputId": "fd4867eb-a4b7-4bbb-c778-c765a8d397f4"
      },
      "source": [
        "plt.figure(figsize=(15,6))\n",
        "sns.barplot(x=df5['ratio evening'],y=df5['place_x'],orient='h', palette='viridis_r')\n",
        "plt.xlabel('ratio of checkins in evening')\n",
        "plt.ylabel('type of place')\n",
        "plt.title('ratio of evening checkins')"
      ],
      "execution_count": 333,
      "outputs": [
        {
          "output_type": "execute_result",
          "data": {
            "text/plain": [
              "Text(0.5, 1.0, 'ratio of evening checkins')"
            ]
          },
          "metadata": {
            "tags": []
          },
          "execution_count": 333
        },
        {
          "output_type": "display_data",
          "data": {
            "image/png": "[encoded data removed]",
            "text/plain": [
              "<Figure size 1080x432 with 1 Axes>"
            ]
          },
          "metadata": {
            "tags": [],
            "needs_background": "light"
          }
        }
      ]
    },
    {
      "cell_type": "code",
      "metadata": {
        "id": "jgf_CA95YuX5"
      },
      "source": [
        ""
      ],
      "execution_count": null,
      "outputs": []
    },
    {
      "cell_type": "code",
      "metadata": {
        "id": "JhhzhfO9bZt5"
      },
      "source": [
        "######Code To be cleaned and commented\n",
        "###### interpertation of figures"
      ],
      "execution_count": null,
      "outputs": []
    }
  ]
}