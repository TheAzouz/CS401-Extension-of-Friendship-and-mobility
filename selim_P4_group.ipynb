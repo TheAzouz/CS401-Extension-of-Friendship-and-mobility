{
  "nbformat": 4,
  "nbformat_minor": 0,
  "metadata": {
    "colab": {
      "name": "selim_P4_group.ipynb",
      "provenance": [],
      "collapsed_sections": []
    },
    "kernelspec": {
      "name": "python3",
      "display_name": "Python 3"
    }
  },
  "cells": [
    {
      "cell_type": "code",
      "metadata": {
        "colab": {
          "base_uri": "https://localhost:8080/"
        },
        "id": "uoUlLe3nNu9f",
        "outputId": "0db8d163-4c66-422b-b233-344cbb7e27c2"
      },
      "source": [
        "from google.colab import drive\n",
        "drive.mount ('/content/drive')"
      ],
      "execution_count": 1,
      "outputs": [
        {
          "output_type": "stream",
          "text": [
            "Drive already mounted at /content/drive; to attempt to forcibly remount, call drive.mount(\"/content/drive\", force_remount=True).\n"
          ],
          "name": "stdout"
        }
      ]
    },
    {
      "cell_type": "code",
      "metadata": {
        "colab": {
          "base_uri": "https://localhost:8080/"
        },
        "id": "sxh_ptU0N365",
        "outputId": "775f7d9e-a62a-4729-baed-392faae1f96a"
      },
      "source": [
        "cd \"drive/My Drive/Colab Notebooks/ADA_P4/data\""
      ],
      "execution_count": 2,
      "outputs": [
        {
          "output_type": "stream",
          "text": [
            "/content/drive/My Drive/Colab Notebooks/ADA_P4/data\n"
          ],
          "name": "stdout"
        }
      ]
    },
    {
      "cell_type": "code",
      "metadata": {
        "id": "6iGbakvmN-TQ"
      },
      "source": [
        "import pandas as pd\n",
        "import numpy as np\n",
        "import seaborn as sns\n",
        "import matplotlib.pyplot as plt\n",
        "from scipy.interpolate import interp1d"
      ],
      "execution_count": 3,
      "outputs": []
    },
    {
      "cell_type": "code",
      "metadata": {
        "id": "RkkKhDxYVt8a"
      },
      "source": [
        "def calculate_distance (lat1,lon1,lat2,lon2):\n",
        "    \"\"\"\n",
        "    R : radius of earth : 6378.137 km\n",
        "    lat1,lon1 : latitude and longitude of one user\n",
        "    lat2,lon2 : latitude and longitude of other user\n",
        "    \"\"\"\n",
        "    R = 6378.137\n",
        "    # convert into radians\n",
        "    lat1_rad=np.deg2rad(lat1)\n",
        "    lat2_rad=np.deg2rad(lat2)\n",
        "    lon1_rad=np.deg2rad(lon1)\n",
        "    lon2_rad=np.deg2rad(lon2)\n",
        "    \n",
        "    #get difference of lattitude and difference of longitude\n",
        "    delta_lat=lat2_rad-lat1_rad\n",
        "    delta_lon=lon2_rad-lon1_rad\n",
        "    \n",
        "    #return formula Haversine formula\n",
        "    a=((np.sin(0.5*delta_lat))**2)+np.cos(lat1_rad)*np.cos(lat2_rad)*((np.sin(0.5*delta_lon))**2)\n",
        "    return 2*R*np.arcsin(np.sqrt(a))\n",
        "\n",
        "def cont (x):\n",
        "    if any(x.str.contains('Home','private')):return 1\n",
        "    else : return 0"
      ],
      "execution_count": 4,
      "outputs": []
    },
    {
      "cell_type": "code",
      "metadata": {
        "id": "zd2nd8d8zmXF"
      },
      "source": [
        ""
      ],
      "execution_count": 4,
      "outputs": []
    },
    {
      "cell_type": "markdown",
      "metadata": {
        "id": "9Q4NS7BpzoNK"
      },
      "source": [
        "## 2) Friends checkins:\n"
      ]
    },
    {
      "cell_type": "markdown",
      "metadata": {
        "id": "jId_bzgQ_b6W"
      },
      "source": [
        "- We want to find checkin patterns between friends gaherings.\n",
        "- For that, we create a new dataframe, with whome we are are going to work for this whole part.\n",
        "- We assume two friends have met together if they have checked in the same place with at most one hour difference. Since our dataframe is labeled and each place has its own id, we don't need to do any approximation on the checkin distance between friends.\n"
      ]
    },
    {
      "cell_type": "code",
      "metadata": {
        "id": "jpLatClBVKhM"
      },
      "source": [
        "def friends_gatherings(PROCEEDED_PATH,FRIENDSHIPS_PATH):\n",
        "    \"\"\"\n",
        "    function to get dataframe where friends gathered\n",
        "    INPUTS : \n",
        "    PROCEEDED_PATH : proceeded dataset path\n",
        "    FRIENDSHIPS_PATH : friendships (edges) path\n",
        "    OUTPUTS :\n",
        "    1) dataframe that will be used for 1 futur plot, contains two columns : distance from home and probability of checkin\n",
        "    This dataframe isn't limited to friends checkins and is used to see if there is any difference\n",
        "    between considering friends gatherings or not\n",
        "    2) Friends dataframe : contains the dataframe that will be used all this part for our studies.\n",
        "    This dataframe contains the columns ['User ID','Venue ID','day','local time','lat','lon','place','country']\n",
        "\n",
        "    In order to have a study that is the most accurate possible, we only work on users that checked in their homes at least once.\n",
        "    That helps us make no approximation on the home location. \n",
        "    Moreover, our dataframe being large, we don't have the problem of not having enough data to study.\n",
        "\n",
        "    In order to preserve memory, we will import the friendship dataframe in this function, we won't need it after that.\n",
        "    \"\"\"\n",
        "    #Import two datasets\n",
        "    df=pd.read_csv(PROCEEDED_PATH,parse_dates=['local time'])\n",
        "    friendships=pd.read_csv(FRIENDSHIPS_PATH,sep='\\t',encoding='latin-1',names=['User ID','User2 ID'], header=None)\n",
        "\n",
        "    #clean edges dataframe : erase columns where the person following and the person followed is the same\n",
        "    friendships=friendships[friendships['User ID']!=friendships['User2 ID']]\n",
        "\n",
        "    print('begin getting homes')\n",
        "    #create a new dataframe : df1 : used to find the home location of each user \n",
        "    #To do that,  we keep only the line where the user checked in their homes\n",
        "    #Then, we get the means of checkin latitude and longitude for each user and each place checked in to find the home location\n",
        "    # ==> The home location is the mean of checkins that were in the home of a user\n",
        "    # We finally return only the three columns needed to perform the final merge to have the final \n",
        "\n",
        "    #We just initialize the two columns we need\n",
        "    df1=df[['User ID','lat','lon','place']].rename(columns={'lat':'home lat','lon':'home lon'})\n",
        "    df1=df1.groupby(['User ID','place'],as_index=False).\\\n",
        "        agg({'home lat':'mean','home lon':'mean'},axis='columns')\n",
        "    df1=df1[df1['place'].str.contains('Home (private)',regex=False)][['User ID','home lat','home lon']]\n",
        "    #df1 now contains for each user his home longitude and home latitude\n",
        "\n",
        "    #We then perform a merge with the original dataset to integrate the home coordinates to the dataset\n",
        "    df1=df1.merge(df[['User ID','Venue ID','day','local time','lat','lon','place','country']])\n",
        "    df1['dist home']=calculate_distance(df1['lat'],df1['lon'],df1['home lat'],df1['home lon']).round()\n",
        "    \n",
        "    #Now we move to finding the \n",
        "    merged_friends=pd.DataFrame()\n",
        "    chunksize=10**6\n",
        "    numb_chunks=int(np.ceil(df1.shape[0]/chunksize))\n",
        "    print('begin merging')\n",
        "    #We work with chunks of size 10**6 each\n",
        "    for i in range(numb_chunks):\n",
        "        # Since we want the checkin place to be exactly the same for each user (have the same id),\n",
        "        #we perform the merge on both the user and his checkin place (this procedure helped us save much memory and time)\n",
        "        tmp_merge=df1[chunksize*i:chunksize*(i+1)].merge(friendships).\\\n",
        "                    merge(df1[['User ID','Venue ID','local time']],\\\n",
        "                          left_on=['User2 ID','Venue ID'],right_on=['User ID','Venue ID']).\\\n",
        "                    rename(columns={'dist home_x':'dist home'})\n",
        "\n",
        "        #filtre the tmp_merge with friends that checked in at most with one hour difference in the same place\n",
        "        tmp_merge=tmp_merge[(np.abs((tmp_merge['local time_x']-tmp_merge['local time_y']).dt.total_seconds())<3600)]\n",
        "        tmp_merge=tmp_merge.rename(columns={'local time_x':'local time'})\n",
        "\n",
        "        #append the chunk to the final dataset\n",
        "        merged_friends=merged_friends.append(tmp_merge[['day','local time','place','country','dist home']],ignore_index=True)\n",
        "        \n",
        "        if i==int(0.5*numb_chunks):print('halfway through merging')\n",
        "    print('finished merging')\n",
        "    return get_vects_plot(df1[['dist home']]),merged_friends"
      ],
      "execution_count": 5,
      "outputs": []
    },
    {
      "cell_type": "code",
      "metadata": {
        "id": "dF6PwpLVKAy-"
      },
      "source": [
        "def get_vects_plot(df):\n",
        "    \"\"\"\n",
        "    function to calculate the probability of checkin as a function of the distance\n",
        "    Returns a dataframe where there are two columns: the distance from home and its probiability\n",
        "    \"\"\"\n",
        "    df['proba dist']=df['dist home']\n",
        "    df=df.groupby('dist home',as_index=False).count()[['dist home','proba dist']]\n",
        "    df['proba dist']=df['proba dist']/df['proba dist'].sum()\n",
        "    return df[['dist home','proba dist']]"
      ],
      "execution_count": 6,
      "outputs": []
    },
    {
      "cell_type": "code",
      "metadata": {
        "id": "tPraOQnoN-WA",
        "colab": {
          "base_uri": "https://localhost:8080/"
        },
        "outputId": "2716383b-5675-4c7f-a47f-3e29d413c519"
      },
      "source": [
        "PROCEEDED_PATH='processed_dataset.csv'\n",
        "FRIENDSHIPS_PATH='dataset_WWW_friendship_new.txt'\n",
        "df_tot,df_friends=friends_gatherings(PROCEEDED_PATH,FRIENDSHIPS_PATH)"
      ],
      "execution_count": 7,
      "outputs": [
        {
          "output_type": "stream",
          "text": [
            "begin getting homes\n",
            "begin merging\n",
            "halfway through\n",
            "finished merging\n"
          ],
          "name": "stdout"
        },
        {
          "output_type": "stream",
          "text": [
            "/usr/local/lib/python3.6/dist-packages/ipykernel_launcher.py:6: SettingWithCopyWarning: \n",
            "A value is trying to be set on a copy of a slice from a DataFrame.\n",
            "Try using .loc[row_indexer,col_indexer] = value instead\n",
            "\n",
            "See the caveats in the documentation: https://pandas.pydata.org/pandas-docs/stable/user_guide/indexing.html#returning-a-view-versus-a-copy\n",
            "  \n"
          ],
          "name": "stderr"
        }
      ]
    },
    {
      "cell_type": "code",
      "metadata": {
        "id": "S6yxlEJwN-YQ"
      },
      "source": [
        ""
      ],
      "execution_count": null,
      "outputs": []
    },
    {
      "cell_type": "code",
      "metadata": {
        "id": "tRSSlqEmN-aI"
      },
      "source": [
        ""
      ],
      "execution_count": null,
      "outputs": []
    },
    {
      "cell_type": "code",
      "metadata": {
        "id": "-EGw3S0pN-cY"
      },
      "source": [
        ""
      ],
      "execution_count": null,
      "outputs": []
    },
    {
      "cell_type": "code",
      "metadata": {
        "id": "o-MyB_2TN-f5"
      },
      "source": [
        ""
      ],
      "execution_count": null,
      "outputs": []
    },
    {
      "cell_type": "code",
      "metadata": {
        "id": "781o1S5i7_7i"
      },
      "source": [
        ""
      ],
      "execution_count": null,
      "outputs": []
    },
    {
      "cell_type": "code",
      "metadata": {
        "id": "-IEL3UmfcmIx"
      },
      "source": [
        "def apply_median(y,N=6):\n",
        "    \"\"\"\n",
        "    smoth curve using median\n",
        "    y : to be plotted\n",
        "    N : Number of items to use to smooth curve\n",
        "    We choose not to do this process for small values because the curve is already smooth for small distances\n",
        "    \"\"\"\n",
        "    y1=np.copy(y)\n",
        "    \n",
        "    for i in range (N,len(y)):\n",
        "        if i>N:y1[i]=np.median(y[0:i+N])\n",
        "        elif i<len(y)-N : y1[i]=np.median(y[i-N:i+N])\n",
        "        else : y1[i]=np.median(y[i-N:len(y)])\n",
        "    \n",
        "    return y1"
      ],
      "execution_count": 8,
      "outputs": []
    },
    {
      "cell_type": "code",
      "metadata": {
        "id": "a7FLzvIde9eq"
      },
      "source": [
        ""
      ],
      "execution_count": 8,
      "outputs": []
    },
    {
      "cell_type": "code",
      "metadata": {
        "id": "fY6U-Be8j6Cd"
      },
      "source": [
        "from scipy.optimize import curve_fit"
      ],
      "execution_count": 9,
      "outputs": []
    },
    {
      "cell_type": "code",
      "metadata": {
        "id": "uF0AP_YGkvPH"
      },
      "source": [
        "def power_func(x, a, b):\n",
        "    return a * np.power( x,b)\n"
      ],
      "execution_count": 10,
      "outputs": []
    },
    {
      "cell_type": "code",
      "metadata": {
        "id": "EFvI8a6mlO92"
      },
      "source": [
        "df_plot_friends=get_vects_plot(df_friends)\n"
      ],
      "execution_count": 11,
      "outputs": []
    },
    {
      "cell_type": "code",
      "metadata": {
        "id": "IU55ZJY1q45i"
      },
      "source": [
        "change_point=19\n",
        "x_log=np.logspace(0,4.05,50)"
      ],
      "execution_count": 12,
      "outputs": []
    },
    {
      "cell_type": "code",
      "metadata": {
        "colab": {
          "base_uri": "https://localhost:8080/",
          "height": 370
        },
        "id": "o7aVHm2OQ1Y8",
        "outputId": "cb299dab-c917-489d-96b5-498d134d722a"
      },
      "source": [
        "f_friends=interp1d(df_plot_friends['dist home'],df_plot_friends['proba dist'],kind='zero')\n",
        "f_tot=interp1d(df_tot['dist home'],df_tot['proba dist'],kind='zero')\n",
        "\n",
        "#y_friends,y_tot will be the vectors used for the plot, we aply median to smooth the curves\n",
        "y_friends=apply_median(f_friends(x_log),N=1)\n",
        "y_tot=apply_median(f_tot(x_log),N=1)\n",
        "\n",
        "params_friends1,_=curve_fit(power_func,x_log[:change_point],y_friends[:change_point])\n",
        "params_friends2,_=curve_fit(power_func,x_log[change_point:],y_friends[change_point:])\n",
        "\n",
        "plt.figure(figsize=(10,5))\n",
        "marker_style_all = dict(color='r', linestyle=':', marker=(6, 2, 0),markersize=16)\n",
        "\n",
        "plt.loglog(x_log,y_tot,markevery=0.05, **marker_style_all,label='all checkins')\n",
        "\n",
        "\n",
        "marker_style_friends = dict(color='blue', linestyle=':', marker='o',markersize=16,fillstyle='none')\n",
        "plt.loglog(x_log,y_friends,markevery=0.05, **marker_style_friends,label='only meeting friends')\n",
        "plt.xlabel('distance from home')\n",
        "plt.ylabel('probability')\n",
        "plt.title('fraction of friends met as a function of the distance from home')\n",
        "\n",
        "plt.loglog(x_log[change_point-1:], power_func(x_log[change_point-1:], params_friends2[0], params_friends2[1]),\\\n",
        "                  color='g',linewidth=3,label='slopes (meeting friends)')\n",
        "plt.loglog(x_log[:change_point], power_func(x_log[:change_point], params_friends1[0], params_friends1[1]),\\\n",
        "                  color='g',linewidth=3)\n",
        "plt.axvline(x_log[change_point-1],linestyle='--',linewidth=1, color='grey')\n",
        "#plt.xticks([change_point+1],[round(x_log[change_point-1],0)])\n",
        "plt.legend()"
      ],
      "execution_count": 14,
      "outputs": [
        {
          "output_type": "execute_result",
          "data": {
            "text/plain": [
              "<matplotlib.legend.Legend at 0x7f221a819eb8>"
            ]
          },
          "metadata": {
            "tags": []
          },
          "execution_count": 14
        },
        {
          "output_type": "display_data",
          "data": {
            "image/png": "[encoded data removed]",
            "text/plain": [
              "<Figure size 720x360 with 1 Axes>"
            ]
          },
          "metadata": {
            "tags": [],
            "needs_background": "light"
          }
        }
      ]
    },
    {
      "cell_type": "code",
      "metadata": {
        "colab": {
          "base_uri": "https://localhost:8080/"
        },
        "id": "65lixHQdiw6k",
        "outputId": "e809f718-0d8f-412e-bfa0-5937b9e32aa1"
      },
      "source": [
        "print('we have slopes of {} for distances inferior to 30km and slopes of {} for distances superior to 3km'.\\\n",
        "      format(round(params_friends1[1],3),round(params_friends2[1],3)))"
      ],
      "execution_count": 19,
      "outputs": [
        {
          "output_type": "stream",
          "text": [
            "we have slopes of -0.106 for distances inferior to 30km and slopes of -0.697 for distances superior to 3km\n"
          ],
          "name": "stdout"
        }
      ]
    },
    {
      "cell_type": "code",
      "metadata": {
        "colab": {
          "base_uri": "https://localhost:8080/"
        },
        "id": "-v_UOGN35Nut",
        "outputId": "c25fbf1b-0a84-4c58-87b8-01ae457a631c"
      },
      "source": [
        "print('For distances inferior to 30km, the distribution checkins knowingthe distance from home can ba approximates as :\\\n",
        " P(x)={}*exp({}*x)'.format(round(params_friends1[0],3),round(params_friends1[1],3)))\n",
        "print('For distances superior to 30km, the distribution checkins knowingthe distance from home can ba approximates as :\\\n",
        " P(x)={}*exp({}*x)'.format(round(params_friends2[0],3),round(params_friends2[1],3)))"
      ],
      "execution_count": 20,
      "outputs": [
        {
          "output_type": "stream",
          "text": [
            "For distances inferior to 30km, the distribution checkins knowingthe distance from home can ba approximates as : P(x)=0.087*exp(-0.106*x)\n",
            "For distances superior to 30km, the distribution checkins knowingthe distance from home can ba approximates as : P(x)=0.603*exp(-0.697*x)\n"
          ],
          "name": "stdout"
        }
      ]
    },
    {
      "cell_type": "markdown",
      "metadata": {
        "id": "TgCkzCnwmuu7"
      },
      "source": [
        "- Whether a user visited a friend or not does not make much differences in the overall behavior of checkins "
      ]
    },
    {
      "cell_type": "markdown",
      "metadata": {
        "id": "sUTw8zp12GT6"
      },
      "source": [
        "- We can also approximate the probability of moving from home knowing the distance with two equations:\n",
        "\n",
        "$$ P(x)=\n",
        "\\begin{cases}\n",
        "    0.87e^{-0.106x} & \\text{if x<30 km}\\\\\n",
        "    0.603e^{-0.697x} & \\text{otherwise}\n",
        "\\end{cases}\n",
        "$$"
      ]
    },
    {
      "cell_type": "code",
      "metadata": {
        "id": "5ioOmoFmmodD"
      },
      "source": [
        ""
      ],
      "execution_count": null,
      "outputs": []
    },
    {
      "cell_type": "markdown",
      "metadata": {
        "id": "St79UGju3LcN"
      },
      "source": [
        "- We notice a change in the slope at a distance of approximately 30km distance from home. This behavior is similar to the one described in the paper. However, some differences are noticeble:  \n",
        "1) The shift happened in a distance of 30km from home (vs 100km using other daasets)  \n",
        "2) The slope"
      ]
    },
    {
      "cell_type": "code",
      "metadata": {
        "id": "XIxXrg_ZT6MJ"
      },
      "source": [
        "#number_restaurant_meetings=df[df['place_x'].str.contains('restaurant',case=False)].shape[0]\n",
        "#number_bar_meetings=df[df['place_x'].str.contains('bar',case=False)].shape[0]"
      ],
      "execution_count": null,
      "outputs": []
    },
    {
      "cell_type": "code",
      "metadata": {
        "id": "V70wDg4WUSxJ"
      },
      "source": [
        ""
      ],
      "execution_count": null,
      "outputs": []
    },
    {
      "cell_type": "code",
      "metadata": {
        "colab": {
          "base_uri": "https://localhost:8080/",
          "height": 195
        },
        "id": "xYEoTDrVUj5J",
        "outputId": "e3f4509d-ee89-4f6c-8fc7-bae1bee45ce9"
      },
      "source": [
        "df.shape\n",
        "df1=df.copy()\n",
        "df1.head()"
      ],
      "execution_count": null,
      "outputs": [
        {
          "output_type": "execute_result",
          "data": {
            "text/html": [
              "<div>\n",
              "<style scoped>\n",
              "    .dataframe tbody tr th:only-of-type {\n",
              "        vertical-align: middle;\n",
              "    }\n",
              "\n",
              "    .dataframe tbody tr th {\n",
              "        vertical-align: top;\n",
              "    }\n",
              "\n",
              "    .dataframe thead th {\n",
              "        text-align: right;\n",
              "    }\n",
              "</style>\n",
              "<table border=\"1\" class=\"dataframe\">\n",
              "  <thead>\n",
              "    <tr style=\"text-align: right;\">\n",
              "      <th></th>\n",
              "      <th>Unnamed: 0</th>\n",
              "      <th>day_x</th>\n",
              "      <th>local time_x</th>\n",
              "      <th>place_x</th>\n",
              "      <th>country_x</th>\n",
              "      <th>dist home x</th>\n",
              "      <th>dist home y</th>\n",
              "      <th>proba dist</th>\n",
              "    </tr>\n",
              "  </thead>\n",
              "  <tbody>\n",
              "    <tr>\n",
              "      <th>0</th>\n",
              "      <td>184</td>\n",
              "      <td>Sat</td>\n",
              "      <td>2012-05-05 19:24:41+00:00</td>\n",
              "      <td>Bar</td>\n",
              "      <td>US</td>\n",
              "      <td>161.0</td>\n",
              "      <td>6.0</td>\n",
              "      <td>161.0</td>\n",
              "    </tr>\n",
              "    <tr>\n",
              "      <th>1</th>\n",
              "      <td>458</td>\n",
              "      <td>Fri</td>\n",
              "      <td>2012-05-04 16:45:44+00:00</td>\n",
              "      <td>Airport</td>\n",
              "      <td>US</td>\n",
              "      <td>18.0</td>\n",
              "      <td>321.0</td>\n",
              "      <td>18.0</td>\n",
              "    </tr>\n",
              "    <tr>\n",
              "      <th>2</th>\n",
              "      <td>628</td>\n",
              "      <td>Wed</td>\n",
              "      <td>2013-06-18 20:06:35+00:00</td>\n",
              "      <td>Ice Cream Shop</td>\n",
              "      <td>US</td>\n",
              "      <td>159.0</td>\n",
              "      <td>2590.0</td>\n",
              "      <td>159.0</td>\n",
              "    </tr>\n",
              "    <tr>\n",
              "      <th>3</th>\n",
              "      <td>652</td>\n",
              "      <td>Thu</td>\n",
              "      <td>2012-06-06 23:20:26+00:00</td>\n",
              "      <td>Tech Startup</td>\n",
              "      <td>US</td>\n",
              "      <td>160.0</td>\n",
              "      <td>40.0</td>\n",
              "      <td>160.0</td>\n",
              "    </tr>\n",
              "    <tr>\n",
              "      <th>4</th>\n",
              "      <td>690</td>\n",
              "      <td>Fri</td>\n",
              "      <td>2012-06-08 17:35:57+00:00</td>\n",
              "      <td>Tech Startup</td>\n",
              "      <td>US</td>\n",
              "      <td>160.0</td>\n",
              "      <td>40.0</td>\n",
              "      <td>160.0</td>\n",
              "    </tr>\n",
              "  </tbody>\n",
              "</table>\n",
              "</div>"
            ],
            "text/plain": [
              "   Unnamed: 0 day_x  ... dist home y proba dist\n",
              "0         184   Sat  ...         6.0      161.0\n",
              "1         458   Fri  ...       321.0       18.0\n",
              "2         628   Wed  ...      2590.0      159.0\n",
              "3         652   Thu  ...        40.0      160.0\n",
              "4         690   Fri  ...        40.0      160.0\n",
              "\n",
              "[5 rows x 8 columns]"
            ]
          },
          "metadata": {
            "tags": []
          },
          "execution_count": 238
        }
      ]
    },
    {
      "cell_type": "code",
      "metadata": {
        "id": "fNFm9sRCi4lm"
      },
      "source": [
        ""
      ],
      "execution_count": null,
      "outputs": []
    },
    {
      "cell_type": "code",
      "metadata": {
        "id": "c9hA26S6bqE8"
      },
      "source": [
        ""
      ],
      "execution_count": null,
      "outputs": []
    },
    {
      "cell_type": "markdown",
      "metadata": {
        "id": "51gL-khOqKQi"
      },
      "source": [
        "### I) Preprocessing :\n",
        "- We now go through our dataset and gategorize our places features into different categories:  \n",
        "1) `Eat` : Going to eat with friends (restaurant , fast food ...)  \n",
        "2) `Study` : Studying (being in school, universty ...)  \n",
        "3) `Drink` : Having a drink with friends, going out ...  \n",
        "4) `Culture` : Going to watch a movie, visit monuments ...  \n",
        "5) `Home` : meet at someone's home  \n",
        "6) `Move` : take public transports or travel to far places  \n",
        "7) `Consume` : Visit stores, malls ...  \n",
        "8) `Work` : Being in work's place  \n",
        "9) `Entertain` : Go to a spa, hotel, beach,park ...  \n",
        "10) `Sport` : practise sports together  \n",
        "\n",
        "- We also categorize the days of the week into two types:  \n",
        "1) `Working days` : Monday until Friday  \n",
        "2) `Week end day` : Saturday and Sunday  \n",
        "\n",
        "### II) Processing :\n",
        "- We study the probability people meet in each category\n",
        "- We compare normalized probabilities\n",
        "\n",
        "\n"
      ]
    },
    {
      "cell_type": "code",
      "metadata": {
        "id": "IUduOFMniVCF"
      },
      "source": [
        "df1=df.copy()\n",
        "\n",
        "df1.loc[df1['place_x'].str.contains('restaurant|Burger|pizza|Diner|food|Steakhouse|BBQ|Dessert|Ramen|Ice Cream|Fried|Sandwich|breakfast|snack|taco|hot|soup|wings',case=False),'place_x']='Eat'\n",
        "df1.loc[df1['place_x'].str.contains('college|University|school|student',case=False),'place_x']='Study'\n",
        "df1.loc[df1['place_x'].str.contains('coffee|Bar|Nightclub|pub|Lounge|Beer|tea|Nightlife',case=False),'place_x']='Drink'\n",
        "df1.loc[df1['place_x'].str.contains('multiplex|Movie|Theater|concert|Music|historic|arts|Museum|library|Monument|temple|art',case=False),'place_x']='Culture'\n",
        "df1.loc[df1['place_x'].str.contains('Home|Residential|Building',case=False),'place_x']='Home'\n",
        "df1.loc[df1['place_x'].str.contains('station|airport|subway|travel|boat|bus',case=False),'place_x']='Move'\n",
        "df1.loc[df1['place_x'].str.contains('store|mall|plaza|shop|boutique|market',case=False),'place_x']='Consume'\n",
        "df1.loc[df1['place_x'].str.contains('work|office|Startup|professional',case=False),'place_x']='Work'\n",
        "df1.loc[df1['place_x'].str.contains('soccer stadium|Entertainment|Outdoor|beach|park|event|Arcade|resort|hotel|spa|Casino',case=False),'place_x']='Entertainement'\n",
        "df1.loc[df1['place_x'].str.contains('soccer field|sport|gym|stadium|surf|pool|golf|baseball',case=False),'place_x']='Sport'\n",
        "#df1.loc[df1['place_x'].str.contains('Neighborhood|road|bakery|church|mosque|hospital|bank|bridge|rest',case=False),'place_x']='Others'\n",
        "\n",
        "df1.loc[df1['day_x'].str.contains('mon|tue|wed|thu|fri',case=False),'day_x']='Work day'\n",
        "df1.loc[df1['day_x'].str.contains('sat|sun',case=False),'day_x']='Week end'\n",
        "\n",
        "\n",
        "df2=df1.loc[df1['place_x'].str.contains('sport|Entertainement|Work|Consume|Move|Home|Culture|Drink|Study|Eat',case=False),:]\n",
        "df3=df2.groupby(['place_x','day_x'],as_index=False).agg({'country_x':'size'}).\\\n",
        "                sort_values(by='country_x',ascending=False)[['place_x','day_x','country_x']].\\\n",
        "                rename(columns={'country_x':'numb checkins'})\n",
        "#df1.groupby('place_x').count().sort_values(by='day_x',ascending=False).head(50)"
      ],
      "execution_count": null,
      "outputs": []
    },
    {
      "cell_type": "code",
      "metadata": {
        "colab": {
          "base_uri": "https://localhost:8080/",
          "height": 112
        },
        "id": "0PZnsdsHBSHh",
        "outputId": "c74132be-6f1e-4660-c65b-755f70353376"
      },
      "source": [
        "df3.head(2)"
      ],
      "execution_count": null,
      "outputs": [
        {
          "output_type": "execute_result",
          "data": {
            "text/html": [
              "<div>\n",
              "<style scoped>\n",
              "    .dataframe tbody tr th:only-of-type {\n",
              "        vertical-align: middle;\n",
              "    }\n",
              "\n",
              "    .dataframe tbody tr th {\n",
              "        vertical-align: top;\n",
              "    }\n",
              "\n",
              "    .dataframe thead th {\n",
              "        text-align: right;\n",
              "    }\n",
              "</style>\n",
              "<table border=\"1\" class=\"dataframe\">\n",
              "  <thead>\n",
              "    <tr style=\"text-align: right;\">\n",
              "      <th></th>\n",
              "      <th>place_x</th>\n",
              "      <th>day_x</th>\n",
              "      <th>country_x</th>\n",
              "    </tr>\n",
              "  </thead>\n",
              "  <tbody>\n",
              "    <tr>\n",
              "      <th>17</th>\n",
              "      <td>Study</td>\n",
              "      <td>Work day</td>\n",
              "      <td>41063</td>\n",
              "    </tr>\n",
              "    <tr>\n",
              "      <th>7</th>\n",
              "      <td>Eat</td>\n",
              "      <td>Work day</td>\n",
              "      <td>17308</td>\n",
              "    </tr>\n",
              "  </tbody>\n",
              "</table>\n",
              "</div>"
            ],
            "text/plain": [
              "   place_x     day_x  country_x\n",
              "17   Study  Work day      41063\n",
              "7      Eat  Work day      17308"
            ]
          },
          "metadata": {
            "tags": []
          },
          "execution_count": 176
        }
      ]
    },
    {
      "cell_type": "code",
      "metadata": {
        "colab": {
          "base_uri": "https://localhost:8080/"
        },
        "id": "mToMOWyT1du0",
        "outputId": "16bff9bb-817c-4bd8-824e-275f98e95bcd"
      },
      "source": [
        ""
      ],
      "execution_count": null,
      "outputs": [
        {
          "output_type": "execute_result",
          "data": {
            "text/plain": [
              "(20, 3)"
            ]
          },
          "metadata": {
            "tags": []
          },
          "execution_count": 177
        }
      ]
    },
    {
      "cell_type": "code",
      "metadata": {
        "colab": {
          "base_uri": "https://localhost:8080/",
          "height": 530
        },
        "id": "l0Wy3Rpo1j1N",
        "outputId": "ce178583-ac48-4491-ca5f-1cfbad2a983b"
      },
      "source": [
        "plt.figure(figsize=(15,8))\n",
        "sns.barplot(x=df3['country_x']/df3['country_x'].sum(),y=df3['place_x'],orient='h',hue=df3['day_x'])\n",
        "plt.xlabel('probability')\n",
        "plt.ylabel('type of place')\n",
        "plt.title('meeting patterns between friends')"
      ],
      "execution_count": null,
      "outputs": [
        {
          "output_type": "execute_result",
          "data": {
            "text/plain": [
              "Text(0.5, 1.0, 'meeting patterns between friends')"
            ]
          },
          "metadata": {
            "tags": []
          },
          "execution_count": 251
        },
        {
          "output_type": "display_data",
          "data": {
            "image/png": "[encoded data removed]",
            "text/plain": [
              "<Figure size 1080x576 with 1 Axes>"
            ]
          },
          "metadata": {
            "tags": [],
            "needs_background": "light"
          }
        }
      ]
    },
    {
      "cell_type": "code",
      "metadata": {
        "id": "H0VqQWBfK5oN"
      },
      "source": [
        "def tbd2 (x):\n",
        "    return sum(x)/max(x)\n",
        "###### JUSTE DIFF OU DIVISER PAR TOT?????????????????????????????????"
      ],
      "execution_count": null,
      "outputs": []
    },
    {
      "cell_type": "code",
      "metadata": {
        "id": "2lsTMcmhmXOj"
      },
      "source": [
        "df4=df3.copy()\n",
        "#normalize to have proba/day\n",
        "df4.loc[df4['day_x'].str.contains('Week|end',case=False),'country_x']=-df4.loc[df4['day_x'].str.contains('Week|end',case=False),'country_x']/2\n",
        "df4.loc[df4['day_x'].str.contains('Work|day',case=False),'country_x']=df4.loc[df4['day_x'].str.contains('Work|day',case=False),'country_x']/5\n",
        "df4=df4.groupby('place_x',as_index=False).agg({'country_x':tbd2},axis='columns').sort_values(by='country_x',ascending=False)\n"
      ],
      "execution_count": null,
      "outputs": []
    },
    {
      "cell_type": "code",
      "metadata": {
        "id": "5yO_gnx_OLHf"
      },
      "source": [
        ""
      ],
      "execution_count": null,
      "outputs": []
    },
    {
      "cell_type": "code",
      "metadata": {
        "colab": {
          "base_uri": "https://localhost:8080/",
          "height": 421
        },
        "id": "TWQABuhpL1VT",
        "outputId": "fe734cc2-9d3e-4265-81f2-f460b15f4708"
      },
      "source": [
        "plt.figure(figsize=(15,6))\n",
        "sns.barplot(x=df4['country_x'],y=df4['place_x'],orient='h', palette='viridis_r')\n",
        "plt.xlabel('difference between normalized probabilities')\n",
        "plt.ylabel('type of place')\n",
        "plt.title('meeting patterns between friends day week vs week end')"
      ],
      "execution_count": null,
      "outputs": [
        {
          "output_type": "execute_result",
          "data": {
            "text/plain": [
              "Text(0.5, 1.0, 'meeting patterns between friends day week vs week end')"
            ]
          },
          "metadata": {
            "tags": []
          },
          "execution_count": 46
        },
        {
          "output_type": "display_data",
          "data": {
            "image/png": "[encoded data removed]",
            "text/plain": [
              "<Figure size 1080x432 with 1 Axes>"
            ]
          },
          "metadata": {
            "tags": [],
            "needs_background": "light"
          }
        }
      ]
    },
    {
      "cell_type": "code",
      "metadata": {
        "colab": {
          "base_uri": "https://localhost:8080/"
        },
        "id": "Efdrea8EcHyk",
        "outputId": "458bd20b-2f59-465c-b34e-60384860cccb"
      },
      "source": [
        "df2.loc[:,'evening']=df2['local time_x'].dt.hour>18"
      ],
      "execution_count": null,
      "outputs": [
        {
          "output_type": "stream",
          "text": [
            "/usr/local/lib/python3.6/dist-packages/pandas/core/indexing.py:1743: SettingWithCopyWarning: \n",
            "A value is trying to be set on a copy of a slice from a DataFrame.\n",
            "Try using .loc[row_indexer,col_indexer] = value instead\n",
            "\n",
            "See the caveats in the documentation: https://pandas.pydata.org/pandas-docs/stable/user_guide/indexing.html#returning-a-view-versus-a-copy\n",
            "  isetter(ilocs[0], value)\n"
          ],
          "name": "stderr"
        }
      ]
    },
    {
      "cell_type": "code",
      "metadata": {
        "colab": {
          "base_uri": "https://localhost:8080/",
          "height": 195
        },
        "id": "zllBRayaYNa1",
        "outputId": "59fa81af-8514-4475-aa6e-a4d107d73af6"
      },
      "source": [
        "df2.head()"
      ],
      "execution_count": null,
      "outputs": [
        {
          "output_type": "execute_result",
          "data": {
            "text/html": [
              "<div>\n",
              "<style scoped>\n",
              "    .dataframe tbody tr th:only-of-type {\n",
              "        vertical-align: middle;\n",
              "    }\n",
              "\n",
              "    .dataframe tbody tr th {\n",
              "        vertical-align: top;\n",
              "    }\n",
              "\n",
              "    .dataframe thead th {\n",
              "        text-align: right;\n",
              "    }\n",
              "</style>\n",
              "<table border=\"1\" class=\"dataframe\">\n",
              "  <thead>\n",
              "    <tr style=\"text-align: right;\">\n",
              "      <th></th>\n",
              "      <th>Unnamed: 0</th>\n",
              "      <th>day_x</th>\n",
              "      <th>local time_x</th>\n",
              "      <th>place_x</th>\n",
              "      <th>country_x</th>\n",
              "      <th>dist home x</th>\n",
              "      <th>dist home y</th>\n",
              "      <th>proba dist</th>\n",
              "      <th>evening</th>\n",
              "    </tr>\n",
              "  </thead>\n",
              "  <tbody>\n",
              "    <tr>\n",
              "      <th>0</th>\n",
              "      <td>184</td>\n",
              "      <td>Week end</td>\n",
              "      <td>2012-05-05 19:24:41+00:00</td>\n",
              "      <td>Drink</td>\n",
              "      <td>US</td>\n",
              "      <td>161.0</td>\n",
              "      <td>6.0</td>\n",
              "      <td>161.0</td>\n",
              "      <td>True</td>\n",
              "    </tr>\n",
              "    <tr>\n",
              "      <th>1</th>\n",
              "      <td>458</td>\n",
              "      <td>Work day</td>\n",
              "      <td>2012-05-04 16:45:44+00:00</td>\n",
              "      <td>Move</td>\n",
              "      <td>US</td>\n",
              "      <td>18.0</td>\n",
              "      <td>321.0</td>\n",
              "      <td>18.0</td>\n",
              "      <td>False</td>\n",
              "    </tr>\n",
              "    <tr>\n",
              "      <th>2</th>\n",
              "      <td>628</td>\n",
              "      <td>Work day</td>\n",
              "      <td>2013-06-18 20:06:35+00:00</td>\n",
              "      <td>Eat</td>\n",
              "      <td>US</td>\n",
              "      <td>159.0</td>\n",
              "      <td>2590.0</td>\n",
              "      <td>159.0</td>\n",
              "      <td>True</td>\n",
              "    </tr>\n",
              "    <tr>\n",
              "      <th>3</th>\n",
              "      <td>652</td>\n",
              "      <td>Work day</td>\n",
              "      <td>2012-06-06 23:20:26+00:00</td>\n",
              "      <td>Culture</td>\n",
              "      <td>US</td>\n",
              "      <td>160.0</td>\n",
              "      <td>40.0</td>\n",
              "      <td>160.0</td>\n",
              "      <td>True</td>\n",
              "    </tr>\n",
              "    <tr>\n",
              "      <th>4</th>\n",
              "      <td>690</td>\n",
              "      <td>Work day</td>\n",
              "      <td>2012-06-08 17:35:57+00:00</td>\n",
              "      <td>Culture</td>\n",
              "      <td>US</td>\n",
              "      <td>160.0</td>\n",
              "      <td>40.0</td>\n",
              "      <td>160.0</td>\n",
              "      <td>False</td>\n",
              "    </tr>\n",
              "  </tbody>\n",
              "</table>\n",
              "</div>"
            ],
            "text/plain": [
              "   Unnamed: 0     day_x  ... proba dist evening\n",
              "0         184  Week end  ...      161.0    True\n",
              "1         458  Work day  ...       18.0   False\n",
              "2         628  Work day  ...      159.0    True\n",
              "3         652  Work day  ...      160.0    True\n",
              "4         690  Work day  ...      160.0   False\n",
              "\n",
              "[5 rows x 9 columns]"
            ]
          },
          "metadata": {
            "tags": []
          },
          "execution_count": 324
        }
      ]
    },
    {
      "cell_type": "code",
      "metadata": {
        "id": "R_hwEGdncJsj"
      },
      "source": [
        "df5=df2.groupby('place_x',as_index=False).agg({'evening':'sum','country_x':'size'})"
      ],
      "execution_count": null,
      "outputs": []
    },
    {
      "cell_type": "code",
      "metadata": {
        "id": "iYHO-Qvih9pM"
      },
      "source": [
        "df5['ratio evening']=df5['evening']/df5['country_x']\n",
        "df5=df5.sort_values(by='ratio evening',ascending=False)"
      ],
      "execution_count": null,
      "outputs": []
    },
    {
      "cell_type": "code",
      "metadata": {
        "colab": {
          "base_uri": "https://localhost:8080/",
          "height": 421
        },
        "id": "TNnngmDiLjqk",
        "outputId": "fd4867eb-a4b7-4bbb-c778-c765a8d397f4"
      },
      "source": [
        "plt.figure(figsize=(15,6))\n",
        "sns.barplot(x=df5['ratio evening'],y=df5['place_x'],orient='h', palette='viridis_r')\n",
        "plt.xlabel('ratio of checkins in evening')\n",
        "plt.ylabel('type of place')\n",
        "plt.title('ratio of evening checkins')"
      ],
      "execution_count": null,
      "outputs": [
        {
          "output_type": "execute_result",
          "data": {
            "text/plain": [
              "Text(0.5, 1.0, 'ratio of evening checkins')"
            ]
          },
          "metadata": {
            "tags": []
          },
          "execution_count": 333
        },
        {
          "output_type": "display_data",
          "data": {
            "image/png": "[encoded data removed]",
            "text/plain": [
              "<Figure size 1080x432 with 1 Axes>"
            ]
          },
          "metadata": {
            "tags": [],
            "needs_background": "light"
          }
        }
      ]
    },
    {
      "cell_type": "code",
      "metadata": {
        "id": "jgf_CA95YuX5"
      },
      "source": [
        ""
      ],
      "execution_count": null,
      "outputs": []
    },
    {
      "cell_type": "markdown",
      "metadata": {
        "id": "Vg4Oczukywtl"
      },
      "source": [
        "### III) Conclusions :\n",
        "- People tend to meet their friends more in work or study places during the week. This can be explained by the fact that people usually have their coworkers and classmates as friends on social media. Studying or working is part of people's obligations and these are task are generally proceeded during the week\n",
        "- However, when it comes to free time (week end for most of people), people choose to meet their friends in diverting places (every other category that doesn't involve working or studying). Specifically, people are the most likely to go out in weekend to have drinks or to entertainement places.\n",
        "- Finally, people tend to spend their dayworking and studying, and then spend their evening and night in diverting places (eating, having drinks)"
      ]
    },
    {
      "cell_type": "code",
      "metadata": {
        "id": "JhhzhfO9bZt5"
      },
      "source": [
        "######Code To be cleaned and \n",
        "###### interpertation of figures"
      ],
      "execution_count": null,
      "outputs": []
    }
  ]
}